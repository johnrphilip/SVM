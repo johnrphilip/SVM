{
 "cells":[
  {
   "cell_type":"markdown",
   "source":[
    "# Data Pre"
   ],
   "attachments":{
    
   },
   "metadata":{
    "datalore":{
     "node_id":"Data Pre",
     "type":"MD",
     "hide_input_from_viewers":false,
     "hide_output_from_viewers":false,
     "sheet_delimiter":true
    }
   }
  },
  {
   "cell_type":"markdown",
   "source":[
    "# Data Preprocessing\n",
    "\n",
    "- First section for Global Carbon Project\/Budget (GCB)\n",
    "    - Filter to years 1990-2020\n",
    "    - Filters to only countries without missing data\n",
    "    - Rename 'Total' Column to 'Total Carbon Emissions'\n",
    "    - Two CSV files created: one UK specific. The other Global\n",
    "- Second section for UK office of National Statistics (ONS)\n",
    "    - Rename 'Total' Column to 'Total Energy'\n",
    "    - Added an additional column of 'United Kingdom' for combining the datasets\n",
    "    - Checked for missing values\n",
    "- Third section merges the two datasets\n",
    "    - Combined UK only data\n",
    "    - Combined UK + World Data"
   ],
   "attachments":{
    
   },
   "metadata":{
    "datalore":{
     "node_id":"f6WiFj6j1D2mCEeeebpLyx",
     "type":"MD",
     "hide_input_from_viewers":false,
     "hide_output_from_viewers":false,
     "report_properties":{
      "rowId":"pGdnwWJHKhUMd5GvyVSHSb",
      "relativeY":0
     }
    }
   }
  },
  {
   "cell_type":"code",
   "source":[
    "# GCB: Select ALL countries from 1990-2020. Rename column. \n",
    "# new csv: \/data\/notebook_files\/GCB_ALLcountry_energy_data_1990-2020.csv\n",
    "\n",
    "import pandas as pd\n",
    "\n",
    "df = pd.read_csv(\"\/data\/notebook_files\/GCB2022v27_MtCO2_flat.csv\")\n",
    "\n",
    "#visualizing what countries are taken out\n",
    "filtered_countries = df[~df[\"Year\"].between(1990, 2020)]['Country'].unique()\n",
    "remaining_countries = df[df[\"Year\"].between(1990, 2020)]['Country'].unique()\n",
    "\n",
    "#Filters\n",
    "df_filtered = df[df[\"Year\"].between(1990, 2020)]\n",
    "df.rename(columns={'Total': 'Total Emissions'}, inplace=True)\n",
    "df_filtered = df.dropna()\n",
    "\n",
    "#new csv\n",
    "df_filtered.to_csv(\"GCB_ALLcountry_energy_data_1990-2020.csv\")\n",
    "\n",
    "\n",
    "print(\"Filtered countries:\")\n",
    "print(filtered_countries)\n",
    "print(\"Remaining countries:\")\n",
    "print(remaining_countries)"
   ],
   "execution_count":46,
   "outputs":[
    {
     "name":"stdout",
     "text":[
      "Filtered countries:\n",
      "['Afghanistan' 'Albania' 'Algeria' 'Andorra' 'Angola' 'Anguilla'\n",
      " 'Antarctica' 'Antigua and Barbuda' 'Argentina' 'Armenia' 'Aruba'\n",
      " 'Australia' 'Austria' 'Azerbaijan' 'Bahamas' 'Bahrain' 'Bangladesh'\n",
      " 'Barbados' 'Belarus' 'Belgium' 'Belize' 'Benin' 'Bermuda' 'Bhutan'\n",
      " 'Bonaire, Saint Eustatius and Saba' 'Bosnia and Herzegovina' 'Botswana'\n",
      " 'Brazil' 'British Virgin Islands' 'Brunei Darussalam' 'Bulgaria'\n",
      " 'Burkina Faso' 'Burundi' 'Cambodia' 'Canada' 'Cape Verde'\n",
      " 'Central African Republic' 'Chad' 'Chile' 'China' 'Christmas Island'\n",
      " 'Colombia' 'Comoros' 'Congo' 'Cook Islands' 'Costa Rica' \"Côte d'Ivoire\"\n",
      " 'Croatia' 'Cuba' 'Curaçao' 'Cyprus' 'Czech Republic' 'North Korea'\n",
      " 'Democratic Republic of the Congo' 'Denmark' 'Djibouti' 'Dominica'\n",
      " 'Dominican Republic' 'Ecuador' 'Egypt' 'El Salvador' 'Equatorial Guinea'\n",
      " 'Eritrea' 'Estonia' 'Ethiopia' 'Faeroe Islands'\n",
      " 'Micronesia (Federated States of)' 'Fiji' 'Finland' 'Panama Canal Zone'\n",
      " 'France' 'French Equatorial Africa' 'French Guiana' 'French Polynesia'\n",
      " 'French West Africa' 'Gabon' 'Gambia' 'Georgia' 'Germany' 'Ghana'\n",
      " 'Greece' 'Greenland' 'Grenada' 'Guadeloupe' 'Guatemala' 'Guinea'\n",
      " 'Guinea-Bissau' 'Guyana' 'Haiti' 'Honduras' 'Hong Kong' 'Hungary'\n",
      " 'Iceland' 'India' 'Indonesia' 'Iraq' 'Ireland' 'Iran' 'Israel' 'Italy'\n",
      " 'Jamaica' 'Japan' 'Jordan' 'Kazakhstan' 'Kenya' 'Kiribati' 'Kosovo'\n",
      " 'Kuwait' 'Kuwaiti Oil Fires' 'Kyrgyzstan' 'Laos' 'Latvia' 'Lebanon'\n",
      " 'Leeward Islands' 'Lesotho' 'Liberia' 'Libya' 'Liechtenstein' 'Lithuania'\n",
      " 'Luxembourg' 'Macao' 'North Macedonia' 'Madagascar' 'Malawi' 'Malaysia'\n",
      " 'Maldives' 'Mali' 'Malta' 'Marshall Islands' 'Martinique' 'Mauritania'\n",
      " 'Mauritius' 'Mayotte' 'Mexico' 'Mongolia' 'Montenegro' 'Montserrat'\n",
      " 'Morocco' 'Mozambique' 'Myanmar' 'Namibia' 'Nauru' 'Nepal' 'Netherlands'\n",
      " 'New Caledonia' 'New Zealand' 'Nicaragua' 'Niger' 'Nigeria' 'Niue'\n",
      " 'Norway' 'Occupied Palestinian Territory' 'Oman'\n",
      " 'Pacific Islands (Palau)' 'Pakistan' 'Palau' 'Panama' 'Papua New Guinea'\n",
      " 'Paraguay' 'Peru' 'Philippines' 'Bolivia' 'Poland' 'Portugal'\n",
      " 'Puerto Rico' 'Qatar' 'Cameroon' 'South Korea' 'Moldova' 'South Sudan'\n",
      " 'Sudan' 'Réunion' 'Romania' 'Russia' 'Rwanda' 'Ryukyu Islands'\n",
      " 'Saint Helena' 'Saint Lucia' 'Sint Maarten (Dutch part)' 'Samoa'\n",
      " 'Sao Tome and Principe' 'Saudi Arabia' 'Senegal' 'Serbia' 'Seychelles'\n",
      " 'Sierra Leone' 'Singapore' 'Slovakia' 'Slovenia' 'Solomon Islands'\n",
      " 'Somalia' 'South Africa' 'Spain' 'Sri Lanka' 'Saint Kitts and Nevis'\n",
      " 'St. Kitts-Nevis-Anguilla' 'Saint Pierre and Miquelon'\n",
      " 'Saint Vincent and the Grenadines' 'Suriname' 'Swaziland' 'Sweden'\n",
      " 'Switzerland' 'Syria' 'Taiwan' 'Tajikistan' 'Thailand' 'Timor-Leste'\n",
      " 'Togo' 'Tonga' 'Trinidad and Tobago' 'Tunisia' 'Turkey' 'Turkmenistan'\n",
      " 'Turks and Caicos Islands' 'Tuvalu' 'Uganda' 'Ukraine'\n",
      " 'United Arab Emirates' 'United Kingdom' 'Tanzania' 'USA' 'Uruguay'\n",
      " 'Uzbekistan' 'Vanuatu' 'Venezuela' 'Viet Nam' 'Wallis and Futuna Islands'\n",
      " 'Yemen' 'Zambia' 'Zimbabwe' 'International Transport' 'Global']\n",
      "Remaining countries:\n",
      "['Afghanistan' 'Albania' 'Algeria' 'Andorra' 'Angola' 'Anguilla'\n",
      " 'Antarctica' 'Antigua and Barbuda' 'Argentina' 'Armenia' 'Aruba'\n",
      " 'Australia' 'Austria' 'Azerbaijan' 'Bahamas' 'Bahrain' 'Bangladesh'\n",
      " 'Barbados' 'Belarus' 'Belgium' 'Belize' 'Benin' 'Bermuda' 'Bhutan'\n",
      " 'Bonaire, Saint Eustatius and Saba' 'Bosnia and Herzegovina' 'Botswana'\n",
      " 'Brazil' 'British Virgin Islands' 'Brunei Darussalam' 'Bulgaria'\n",
      " 'Burkina Faso' 'Burundi' 'Cambodia' 'Canada' 'Cape Verde'\n",
      " 'Central African Republic' 'Chad' 'Chile' 'China' 'Christmas Island'\n",
      " 'Colombia' 'Comoros' 'Congo' 'Cook Islands' 'Costa Rica' \"Côte d'Ivoire\"\n",
      " 'Croatia' 'Cuba' 'Curaçao' 'Cyprus' 'Czech Republic' 'North Korea'\n",
      " 'Democratic Republic of the Congo' 'Denmark' 'Djibouti' 'Dominica'\n",
      " 'Dominican Republic' 'Ecuador' 'Egypt' 'El Salvador' 'Equatorial Guinea'\n",
      " 'Eritrea' 'Estonia' 'Ethiopia' 'Faeroe Islands'\n",
      " 'Micronesia (Federated States of)' 'Fiji' 'Finland' 'Panama Canal Zone'\n",
      " 'France' 'French Equatorial Africa' 'French Guiana' 'French Polynesia'\n",
      " 'French West Africa' 'Gabon' 'Gambia' 'Georgia' 'Germany' 'Ghana'\n",
      " 'Greece' 'Greenland' 'Grenada' 'Guadeloupe' 'Guatemala' 'Guinea'\n",
      " 'Guinea-Bissau' 'Guyana' 'Haiti' 'Honduras' 'Hong Kong' 'Hungary'\n",
      " 'Iceland' 'India' 'Indonesia' 'Iraq' 'Ireland' 'Iran' 'Israel' 'Italy'\n",
      " 'Jamaica' 'Japan' 'Jordan' 'Kazakhstan' 'Kenya' 'Kiribati' 'Kosovo'\n",
      " 'Kuwait' 'Kuwaiti Oil Fires' 'Kyrgyzstan' 'Laos' 'Latvia' 'Lebanon'\n",
      " 'Leeward Islands' 'Lesotho' 'Liberia' 'Libya' 'Liechtenstein' 'Lithuania'\n",
      " 'Luxembourg' 'Macao' 'North Macedonia' 'Madagascar' 'Malawi' 'Malaysia'\n",
      " 'Maldives' 'Mali' 'Malta' 'Marshall Islands' 'Martinique' 'Mauritania'\n",
      " 'Mauritius' 'Mayotte' 'Mexico' 'Mongolia' 'Montenegro' 'Montserrat'\n",
      " 'Morocco' 'Mozambique' 'Myanmar' 'Namibia' 'Nauru' 'Nepal' 'Netherlands'\n",
      " 'New Caledonia' 'New Zealand' 'Nicaragua' 'Niger' 'Nigeria' 'Niue'\n",
      " 'Norway' 'Occupied Palestinian Territory' 'Oman'\n",
      " 'Pacific Islands (Palau)' 'Pakistan' 'Palau' 'Panama' 'Papua New Guinea'\n",
      " 'Paraguay' 'Peru' 'Philippines' 'Bolivia' 'Poland' 'Portugal'\n",
      " 'Puerto Rico' 'Qatar' 'Cameroon' 'South Korea' 'Moldova' 'South Sudan'\n",
      " 'Sudan' 'Réunion' 'Romania' 'Russia' 'Rwanda' 'Ryukyu Islands'\n",
      " 'Saint Helena' 'Saint Lucia' 'Sint Maarten (Dutch part)' 'Samoa'\n",
      " 'Sao Tome and Principe' 'Saudi Arabia' 'Senegal' 'Serbia' 'Seychelles'\n",
      " 'Sierra Leone' 'Singapore' 'Slovakia' 'Slovenia' 'Solomon Islands'\n",
      " 'Somalia' 'South Africa' 'Spain' 'Sri Lanka' 'Saint Kitts and Nevis'\n",
      " 'St. Kitts-Nevis-Anguilla' 'Saint Pierre and Miquelon'\n",
      " 'Saint Vincent and the Grenadines' 'Suriname' 'Swaziland' 'Sweden'\n",
      " 'Switzerland' 'Syria' 'Taiwan' 'Tajikistan' 'Thailand' 'Timor-Leste'\n",
      " 'Togo' 'Tonga' 'Trinidad and Tobago' 'Tunisia' 'Turkey' 'Turkmenistan'\n",
      " 'Turks and Caicos Islands' 'Tuvalu' 'Uganda' 'Ukraine'\n",
      " 'United Arab Emirates' 'United Kingdom' 'Tanzania' 'USA' 'Uruguay'\n",
      " 'Uzbekistan' 'Vanuatu' 'Venezuela' 'Viet Nam' 'Wallis and Futuna Islands'\n",
      " 'Yemen' 'Zambia' 'Zimbabwe' 'International Transport' 'Global']\n"
     ],
     "output_type":"stream"
    }
   ],
   "metadata":{
    "datalore":{
     "node_id":"jAYHKAt8Vn9imYiqMyK4cW",
     "type":"CODE",
     "hide_input_from_viewers":false,
     "hide_output_from_viewers":false,
     "report_properties":{
      "rowId":"rVcOY9jplyWTTuybVr9Cin",
      "relativeY":0
     }
    }
   }
  },
  {
   "cell_type":"code",
   "source":[
    "# Select ONLY United Kingdom energy data for years with data 1990 - 2020\n",
    "# New CSV = \/data\/notebook_files\/GCB_UKonly_1990.2020.csv\n",
    "\n",
    "\n",
    "df = pd.read_csv(\"\/data\/notebook_files\/GCB_ALLcountry_energy_data_1990-2020.csv\")\n",
    "\n",
    "# select the years from 1990-2020 & UK as country\n",
    "df_ukyear_filtered = df.loc[(df[\"Year\"].between(1990, 2020)) & (df[\"Country\"] == \"United Kingdom\")]\n",
    "\n",
    "# save new CSV\n",
    "df_ukyear_filtered.to_csv(\"GCB_UKonly_.csv\")"
   ],
   "execution_count":47,
   "outputs":[
    
   ],
   "metadata":{
    "datalore":{
     "node_id":"duT78veSPAZXRJieOCMQUw",
     "type":"CODE",
     "hide_input_from_viewers":false,
     "hide_output_from_viewers":false,
     "report_properties":{
      "rowId":"nPNUC141CajJqc5R3pSRiN",
      "relativeY":0
     }
    }
   }
  },
  {
   "cell_type":"code",
   "source":[
    "# New column\n",
    "\n",
    "\n",
    "# datafram\n",
    "df = pd.read_csv('\/data\/notebook_files\/UK_ONS.csv')\n",
    "\n",
    "# Rename 'Total' column to 'Total Energy'\n",
    "df.rename(columns={'Total_ONS': 'Total Energy'}, inplace=True)\n",
    "\n",
    "# Add a new column 'Country' with 'United Kingdom'\n",
    "df['Country'] = 'United Kingdom'\n",
    "\n",
    "# Check for missing values\n",
    "missing_data = df.isnull().any().any()\n",
    "if missing_data:\n",
    "    print(\"Missing values\")\n",
    "else:\n",
    "    print(\"No missing values\")\n",
    "\n",
    "\n",
    "# Save to a new CSV file\n",
    "df.to_csv('UK_ONS_filtered.csv', index=False)"
   ],
   "execution_count":48,
   "outputs":[
    {
     "name":"stdout",
     "text":[
      "No missing values\n"
     ],
     "output_type":"stream"
    }
   ],
   "metadata":{
    "datalore":{
     "node_id":"Q5dsrlOYpF95Cvnr4feMET",
     "type":"CODE",
     "hide_input_from_viewers":false,
     "hide_output_from_viewers":false,
     "report_properties":{
      "rowId":"ZpXkxu7lbYHeuU8wM26AB4",
      "relativeY":0
     }
    }
   }
  },
  {
   "cell_type":"code",
   "source":[
    "#UK Merge\n",
    "\n",
    "# GCB World dataset\n",
    "df1 = pd.read_csv('\/data\/notebook_files\/GCB_UKonly_.csv')\n",
    "\n",
    "# ONS dataset\n",
    "df2 = pd.read_csv('\/data\/notebook_files\/UK_ONS_filtered.csv')\n",
    "\n",
    "# Merge the datasets based on 'Country' and 'Year'\n",
    "combined_df = df1.merge(df2, on=['Country', 'Year'], how='left')\n",
    "\n",
    "# combined csv\n",
    "combined_df.to_csv('FINAL_UK.csv', index=False)"
   ],
   "execution_count":49,
   "outputs":[
    
   ],
   "metadata":{
    "datalore":{
     "node_id":"pdshBhgsKn0Yq2KgD7PB2K",
     "type":"CODE",
     "hide_input_from_viewers":false,
     "hide_output_from_viewers":false,
     "report_properties":{
      "rowId":"M9ENhHhss5QuxLjeCDVhlt",
      "relativeY":0
     }
    }
   }
  },
  {
   "cell_type":"code",
   "source":[
    "#Dropping unnamed columns and missing values\n",
    "\n",
    "df = pd.read_csv('\/data\/notebook_files\/FINAL_UK.csv')\n",
    "\n",
    "# Drop columns\n",
    "df = df.loc[:, ~df.columns.str.contains('^Unnamed')]\n",
    "if 'Unnamed: 0' in df.columns:\n",
    "    df.drop(columns='Unnamed: 0', inplace=True)\n",
    "if 'ISO 3166-1 alpha-3' in df.columns:\n",
    "    df.drop(columns='ISO 3166-1 alpha-3', inplace=True)\n",
    "\n",
    "#dropping missing values from renewables\n",
    "\n",
    "\n",
    "# Save \n",
    "df.to_csv('\/data\/notebook_files\/FINAL_UK.csv', index=False)"
   ],
   "execution_count":18,
   "outputs":[
    
   ],
   "metadata":{
    "datalore":{
     "node_id":"uV5s5kWWkuIUnDdv47X3Mx",
     "type":"CODE",
     "hide_input_from_viewers":false,
     "hide_output_from_viewers":false,
     "report_properties":{
      "rowId":"7MqS3TX7B1W7kwR1cj4bM4",
      "relativeY":0
     }
    }
   }
  },
  {
   "cell_type":"code",
   "source":[
    "# dropping additional columns\n",
    "\n",
    "data = pd.read_csv('\/data\/notebook_files\/FINAL_UK.csv')\n",
    "\n",
    "# Drop \n",
    "columns_to_drop = ['Unnamed: 0.1', 'Unnamed: 0', 'ISO 3166-1 alpha-3']\n",
    "data = data.drop(columns=columns_to_drop)\n",
    "\n",
    "# Save  to CSV\n",
    "data.to_csv('\/data\/notebook_files\/FINAL_UK.csv', index=False)\n"
   ],
   "execution_count":13,
   "outputs":[
    
   ],
   "metadata":{
    "datalore":{
     "node_id":"aBZ0JLNXLZjtpNVZyeqRJI",
     "type":"CODE",
     "hide_input_from_viewers":true,
     "hide_output_from_viewers":true
    }
   }
  },
  {
   "cell_type":"code",
   "source":[
    "#Dropping unnamed columns\n",
    "\n",
    "df = pd.read_csv('\/data\/notebook_files\/FINAL_WORLD.csv')\n",
    "\n",
    "# Drop columns\n",
    "df = df.loc[:, ~df.columns.str.contains('^Unnamed')]\n",
    "if 'Unnamed: 0' in df.columns:\n",
    "    df.drop(columns='Unnamed: 0', inplace=True)\n",
    "if 'ISO 3166-1 alpha-3' in df.columns:\n",
    "    df.drop(columns='ISO 3166-1 alpha-3', inplace=True)\n",
    "\n",
    "\n",
    "# Save \n",
    "df.to_csv('\/data\/notebook_files\/FINAL_WORLD.csv', index=False)"
   ],
   "execution_count":19,
   "outputs":[
    
   ],
   "metadata":{
    "datalore":{
     "node_id":"grieTZQJVTGI3wlmskxF9I",
     "type":"CODE",
     "hide_input_from_viewers":false,
     "hide_output_from_viewers":false,
     "report_properties":{
      "rowId":"fnUBuEHNInvIE66Wrr7IT8",
      "relativeY":0
     }
    }
   }
  },
  {
   "cell_type":"code",
   "source":[
    "#column names list \n",
    "import csv\n",
    "\n",
    "def print_csv_column_names(csv_file):\n",
    "    with open(csv_file, 'r') as csvfile:\n",
    "        reader = csv.reader(csvfile, delimiter=',')\n",
    "        columns = next(reader)\n",
    "        return columns\n",
    "\n",
    "if __name__ == '__main__':\n",
    "    csv_file = '\/data\/notebook_files\/FINAL_UK.csv'\n",
    "    column_names = print_csv_column_names(csv_file)\n",
    "    print(column_names)"
   ],
   "execution_count":20,
   "outputs":[
    {
     "name":"stdout",
     "text":[
      "['Country', 'Year', 'Total Emissions', 'Coal', 'Oil', 'Gas', 'Cement', 'Flaring', 'Other', 'Per Capita', 'Energy from renewable & waste sources', 'Total Energy', 'Fraction from renewable sources and waste', 'Hydroelectric power', 'Wind, wave, tidal', 'Solar photovoltaic', 'Geothermal aquifers', 'Landfill gas', 'Sewage gas', 'Biogas from autogen', 'Municipal solid waste (MSW)', 'Poultry litter', 'Straw', 'Wood', 'Charcoal', 'Liquid bio-fuels', 'Bioethanol', 'Biodiesel', 'Biomass', 'Cross-boundary Adjustment']\n"
     ],
     "output_type":"stream"
    }
   ],
   "metadata":{
    "datalore":{
     "node_id":"1MBw3cqnWyzMe7PPn0DEXo",
     "type":"CODE",
     "hide_input_from_viewers":false,
     "hide_output_from_viewers":false,
     "report_properties":{
      "rowId":"dT2lZZWJolUt0FjAmnvkr9",
      "relativeY":0
     }
    }
   }
  },
  {
   "cell_type":"markdown",
   "source":[
    "# SVR Model"
   ],
   "attachments":{
    
   },
   "metadata":{
    "datalore":{
     "node_id":"SVR Model",
     "type":"MD",
     "hide_input_from_viewers":false,
     "hide_output_from_viewers":false,
     "sheet_delimiter":true
    }
   }
  },
  {
   "cell_type":"markdown",
   "source":[
    "# SVR Model"
   ],
   "attachments":{
    
   },
   "metadata":{
    "datalore":{
     "node_id":"NHpogSpYlaRI8f0tQBg4t7",
     "type":"MD",
     "hide_input_from_viewers":true,
     "hide_output_from_viewers":false,
     "report_properties":{
      "rowId":"9fOEabRBe1GIQgv38aIeXH",
      "relativeY":0
     }
    }
   }
  },
  {
   "cell_type":"markdown",
   "source":[
    "List of libraries used:\n",
    "\n",
    "- pandas\n",
    "- numpy\n",
    "- matplotlib.pyplot\n",
    "- sklearn.model_selection (train_test_split, cross_val_score, KFold, TimeSeriesSplit)\n",
    "- sklearn.svm (SVR)\n",
    "- sklearn.preprocessing (StandardScaler)\n",
    "- sklearn.metrics (mean_squared_error, r2_score)\n",
    "- seaborn (sns)"
   ],
   "attachments":{
    
   },
   "metadata":{
    "datalore":{
     "node_id":"abLgC5lliSPUAM9veNzLGT",
     "type":"MD",
     "hide_input_from_viewers":true,
     "hide_output_from_viewers":true
    }
   }
  },
  {
   "cell_type":"code",
   "source":[
    "#SVR Model with linear kernel and all features\n",
    "\n",
    "import pandas as pd\n",
    "import numpy as np\n",
    "import matplotlib.pyplot as plt\n",
    "from sklearn.model_selection import train_test_split, cross_val_score, KFold, TimeSeriesSplit\n",
    "from sklearn.svm import SVR\n",
    "from sklearn.preprocessing import StandardScaler\n",
    "from sklearn.metrics import mean_squared_error, r2_score\n",
    "\n",
    "data = pd.read_csv('\/data\/notebook_files\/FINAL_UK.csv')\n",
    "\n",
    "# features\n",
    "features = ['Energy from renewable & waste sources', 'Total Energy', 'Fraction from renewable sources and waste', 'Hydroelectric power', 'Wind, wave, tidal', 'Solar photovoltaic', 'Geothermal aquifers', 'Landfill gas', 'Sewage gas', 'Biogas from autogen', 'Municipal solid waste (MSW)', 'Poultry litter', 'Straw', 'Wood', 'Charcoal', 'Liquid bio-fuels', 'Bioethanol', 'Biodiesel', 'Biomass', 'Cross-boundary Adjustment']\n",
    "X = data[features]\n",
    "y = data['Total Emissions']\n",
    "\n",
    "# Split the data into training and testing sets\n",
    "X_train, X_test, y_train, y_test = train_test_split(X, y, test_size=0.2, random_state=42)\n",
    "\n",
    "# Scaling the features\n",
    "scaler = StandardScaler()\n",
    "X_train_scaled = scaler.fit_transform(X_train)\n",
    "X_test_scaled = scaler.transform(X_test)\n",
    "\n",
    "# Create the SVR model with a linear kernel\n",
    "svr = SVR(kernel='linear')\n",
    "\n",
    "# Train the model on the training set\n",
    "svr.fit(X_train_scaled, y_train)\n",
    "\n",
    "# Make predictions on the test set\n",
    "y_pred = svr.predict(X_test_scaled)\n",
    "\n",
    "# Evaluate the performance\n",
    "mse = mean_squared_error(y_test, y_pred)\n",
    "r2 = r2_score(y_test, y_pred)\n",
    "\n",
    "print(f'Mean Squared Error: {mse}')\n",
    "print(f'R-squared: {r2}')\n",
    "\n",
    "# Plot \n",
    "plt.scatter(y_test, y_pred, color='blue', label='Predictions')\n",
    "plt.scatter(y_test, y_test, color='red', label='True Values')\n",
    "plt.xlabel('True Values')\n",
    "plt.ylabel('Predictions')\n",
    "plt.title('Total Emissions: True vs. Predicted')\n",
    "plt.legend()\n",
    "plt.show()"
   ],
   "execution_count":7,
   "outputs":[
    {
     "name":"stdout",
     "text":[
      "Mean Squared Error: 61.66183709922377\n",
      "R-squared: 0.991092799424557\n"
     ],
     "output_type":"stream"
    },
    {
     "data":{
      "image\/png":"[encoded data removed]"
     },
     "metadata":{
      "image\/png":{
       
      }
     },
     "output_type":"display_data"
    }
   ],
   "metadata":{
    "datalore":{
     "node_id":"1ahAb9lyhRKUZyFvjCPIhp",
     "type":"CODE",
     "hide_input_from_viewers":false,
     "hide_output_from_viewers":false,
     "report_properties":{
      "rowId":"tcmPhpZ1Oh3UgEdoJvtRdd",
      "relativeY":0
     }
    }
   }
  },
  {
   "cell_type":"markdown",
   "source":[
    "# SVR Feature Importance"
   ],
   "attachments":{
    
   },
   "metadata":{
    "datalore":{
     "node_id":"km3yLAPq4rKSybzziH4Gdu",
     "type":"MD",
     "hide_input_from_viewers":true,
     "hide_output_from_viewers":false,
     "report_properties":{
      "rowId":"WFUnIIyhmH0NqFDumT83oh",
      "relativeY":0
     }
    }
   }
  },
  {
   "cell_type":"code",
   "source":[
    "# SVR feature importance\n",
    "# There was some variation while running these so I took the mean of running\n",
    "# them 100 times. \n",
    "\n",
    "\n",
    "\n",
    "df = pd.read_csv(\"\/data\/notebook_files\/FINAL_UK.csv\")\n",
    "\n",
    "# Select features and target variable\n",
    "features = [\n",
    "            'Energy from renewable & waste sources', 'Total Energy',\n",
    "            'Fraction from renewable sources and waste', 'Hydroelectric power', \n",
    "            'Wind, wave, tidal', 'Solar photovoltaic', 'Geothermal aquifers', \n",
    "            'Landfill gas', 'Sewage gas', 'Biogas from autogen', \n",
    "            'Municipal solid waste (MSW)', 'Poultry litter', 'Straw', 'Wood', \n",
    "            'Charcoal', 'Liquid bio-fuels', 'Bioethanol', 'Biodiesel', 'Biomass', ]\n",
    "target = 'Total Emissions'\n",
    "\n",
    "X = df[features]\n",
    "y = df[target]\n",
    "\n",
    "# Define the model\n",
    "model = SVR(kernel='linear')\n",
    "\n",
    "# Initialize a list to store feature importances\n",
    "importance_list = []\n",
    "\n",
    "# Number of runs\n",
    "n_runs = 100\n",
    "\n",
    "# Perform feature importance analysis multiple times\n",
    "for _ in range(n_runs):\n",
    "    # Fit the model\n",
    "    model.fit(X, y)\n",
    "\n",
    "    # Get absolute weights for linear kernel SVR\n",
    "    weights = np.abs(model.coef_[0])\n",
    "\n",
    "    # Normalize the weights\n",
    "    weights \/= np.sum(weights)\n",
    "\n",
    "    # Append feature importance to the list\n",
    "    importance_list.append(weights)\n",
    "\n",
    "# Compute the mean feature importance across runs\n",
    "mean_importance = np.mean(importance_list, axis=0)\n",
    "\n",
    "# Summarize feature importance\n",
    "for i, v in enumerate(mean_importance):\n",
    "    print('Feature: %s, Score: %.5f' % (features[i], v))\n",
    "\n",
    "# Plot feature importance\n",
    "plt.bar([x for x in range(len(mean_importance))], mean_importance)\n",
    "plt.xticks(ticks=range(len(features)), labels=features, rotation=90)\n",
    "plt.xlabel('Features')\n",
    "plt.ylabel('Importance')\n",
    "plt.title('Feature Importance (SVR with Linear Kernel)')\n",
    "plt.show()"
   ],
   "execution_count":8,
   "outputs":[
    {
     "name":"stdout",
     "text":[
      "Feature: Energy from renewable & waste sources, Score: 0.38972\n",
      "Feature: Total Energy, Score: 0.05121\n",
      "Feature: Fraction from renewable sources and waste, Score: 0.00071\n",
      "Feature: Hydroelectric power, Score: 0.00856\n",
      "Feature: Wind, wave, tidal, Score: 0.02657\n",
      "Feature: Solar photovoltaic, Score: 0.00321\n",
      "Feature: Geothermal aquifers, Score: 0.00000\n",
      "Feature: Landfill gas, Score: 0.18510\n",
      "Feature: Sewage gas, Score: 0.02160\n",
      "Feature: Biogas from autogen, Score: 0.00233\n",
      "Feature: Municipal solid waste (MSW), Score: 0.07678\n",
      "Feature: Poultry litter, Score: 0.03789\n",
      "Feature: Straw, Score: 0.00268\n",
      "Feature: Wood, Score: 0.05454\n",
      "Feature: Charcoal, Score: 0.00180\n",
      "Feature: Liquid bio-fuels, Score: 0.02120\n",
      "Feature: Bioethanol, Score: 0.06575\n",
      "Feature: Biodiesel, Score: 0.02141\n",
      "Feature: Biomass, Score: 0.02894\n"
     ],
     "output_type":"stream"
    },
    {
     "data":{
      "image\/png":"[encoded data removed]"
     },
     "metadata":{
      "image\/png":{
       
      }
     },
     "output_type":"display_data"
    }
   ],
   "metadata":{
    "datalore":{
     "node_id":"csFq2cbu8NyNr32YXgZes5",
     "type":"CODE",
     "hide_input_from_viewers":false,
     "hide_output_from_viewers":false,
     "report_properties":{
      "rowId":"y4IV3ZdDVNJKqcULDerGrW",
      "relativeY":0
     }
    }
   }
  },
  {
   "cell_type":"markdown",
   "source":[
    "# Checking Dataranges"
   ],
   "attachments":{
    
   },
   "metadata":{
    "datalore":{
     "node_id":"76NFh6M0YHR8noJm0fP3Z3",
     "type":"MD",
     "hide_input_from_viewers":true,
     "hide_output_from_viewers":false,
     "report_properties":{
      "rowId":"MM9vXxsu6W8tQ4BD0wncuo",
      "relativeY":0
     }
    }
   }
  },
  {
   "cell_type":"code",
   "source":[
    "# Checking the dataranges for all features\n",
    "\n",
    "\n",
    "df = pd.read_csv(\"\/data\/notebook_files\/FINAL_UK.csv\")\n",
    "\n",
    "# Select features\n",
    "features = ['Energy from renewable & waste sources', 'Total Energy', 'Fraction from renewable sources and waste', 'Hydroelectric power', \n",
    "            'Wind, wave, tidal', 'Solar photovoltaic', 'Geothermal aquifers', 'Landfill gas', 'Sewage gas', 'Biogas from autogen', \n",
    "            'Municipal solid waste (MSW)', 'Poultry litter', 'Straw', 'Wood', 'Charcoal', 'Liquid bio-fuels', 'Bioethanol', \n",
    "            'Biodiesel', 'Biomass', 'Cross-boundary Adjustment']\n",
    "\n",
    "# Define the subplot grid dimensions\n",
    "num_plots = len(features)\n",
    "num_cols = 4\n",
    "num_rows = num_plots \/\/ num_cols if num_plots % num_cols == 0 else num_plots \/\/ num_cols + 1\n",
    "\n",
    "# Create the subplot grid\n",
    "fig, axes = plt.subplots(num_rows, num_cols, figsize=(20, 5*num_rows))  # 5*num_rows adjusts the height of each row\n",
    "\n",
    "# Flatten the axes array to make it easier to iterate over\n",
    "axes = axes.flatten()\n",
    "\n",
    "# Plot a boxplot for each feature\n",
    "for i, feature in enumerate(features):\n",
    "    axes[i].boxplot(df[feature].dropna())\n",
    "    axes[i].set_title(feature)\n",
    "\n",
    "# Remove unused subplots\n",
    "if num_plots % num_cols != 0:\n",
    "    for ax in axes[num_plots:]:\n",
    "        fig.delaxes(ax)\n",
    "\n",
    "plt.tight_layout()\n",
    "plt.show()\n"
   ],
   "execution_count":9,
   "outputs":[
    {
     "data":{
      "image\/png":"[encoded data removed]"
     },
     "metadata":{
      "image\/png":{
       
      }
     },
     "output_type":"display_data"
    }
   ],
   "metadata":{
    "datalore":{
     "node_id":"izVr7ICEojRFCjK53cfuwQ",
     "type":"CODE",
     "hide_input_from_viewers":false,
     "hide_output_from_viewers":false,
     "report_properties":{
      "rowId":"dTRrD4zGo9roLfzy4gyXsq",
      "relativeY":0
     }
    }
   }
  },
  {
   "cell_type":"markdown",
   "source":[
    "# SVR model with 'random' 'intuitive' feature selection. Not as predictive"
   ],
   "attachments":{
    
   },
   "metadata":{
    "datalore":{
     "node_id":"Xd9X2YtghSII7Iy8kongwx",
     "type":"MD",
     "hide_input_from_viewers":true,
     "hide_output_from_viewers":false,
     "report_properties":{
      "rowId":"4uMMTZ1phE9HnZMVjSXzRQ",
      "relativeY":0
     }
    }
   }
  },
  {
   "cell_type":"code",
   "source":[
    "# SVR model with 'random' 'intuitive' feature selection. Not as predictive\n",
    "\n",
    "\n",
    "import pandas as pd\n",
    "import numpy as np\n",
    "import matplotlib.pyplot as plt\n",
    "from sklearn.model_selection import train_test_split\n",
    "from sklearn.svm import SVR\n",
    "from sklearn.preprocessing import StandardScaler\n",
    "from sklearn.metrics import mean_squared_error, r2_score\n",
    "\n",
    "data = pd.read_csv('\/data\/notebook_files\/FINAL_UK.csv')\n",
    "\n",
    "# features\n",
    "features = ['Energy from renewable & waste sources', 'Total Energy', 'Fraction from renewable sources and waste']\n",
    "X = data[features]\n",
    "y = data['Total Emissions']\n",
    "\n",
    "# Split the data into training and testing sets\n",
    "X_train, X_test, y_train, y_test = train_test_split(X, y, test_size=0.2, random_state=42)\n",
    "\n",
    "# Scaling the features\n",
    "scaler = StandardScaler()\n",
    "X_train_scaled = scaler.fit_transform(X_train)\n",
    "X_test_scaled = scaler.transform(X_test)\n",
    "\n",
    "# Create the SVR model with a linear kernel\n",
    "svr = SVR(kernel='linear')\n",
    "\n",
    "# Train the model on the training set\n",
    "svr.fit(X_train_scaled, y_train)\n",
    "\n",
    "# Make predictions on the test set\n",
    "y_pred = svr.predict(X_test_scaled)\n",
    "\n",
    "# Evaluate the performance\n",
    "mse = mean_squared_error(y_test, y_pred)\n",
    "r2 = r2_score(y_test, y_pred)\n",
    "\n",
    "print(f'Mean Squared Error: {mse}')\n",
    "print(f'R-squared: {r2}')\n",
    "\n",
    "# Plot the results\n",
    "plt.scatter(y_test, y_test, c='blue', label='True Values', alpha=0.6)\n",
    "plt.scatter(y_test, y_pred, c='red', label='Predictions', alpha=0.6)\n",
    "plt.xlabel('True Values')\n",
    "plt.ylabel('Predictions')\n",
    "plt.title('Total Emissions: True vs. Predicted')\n",
    "plt.legend()\n",
    "plt.grid(True)\n",
    "plt.show()"
   ],
   "execution_count":25,
   "outputs":[
    {
     "name":"stdout",
     "text":[
      "Mean Squared Error: 1482.173662037332\n",
      "R-squared: 0.7858964520605959\n"
     ],
     "output_type":"stream"
    },
    {
     "data":{
      "image\/png":"[encoded data removed]"
     },
     "metadata":{
      "image\/png":{
       
      }
     },
     "output_type":"display_data"
    }
   ],
   "metadata":{
    "datalore":{
     "node_id":"NkpYYhkH0cY75vdN66wppH",
     "type":"CODE",
     "hide_input_from_viewers":false,
     "hide_output_from_viewers":false,
     "report_properties":{
      "rowId":"38hzUp0zxZNtkY2JygwcMC",
      "relativeY":0
     }
    }
   }
  },
  {
   "cell_type":"markdown",
   "source":[
    "# SVR with Tabu search"
   ],
   "attachments":{
    
   },
   "metadata":{
    "datalore":{
     "node_id":"CQIjaTvry5Gdt8XQ52R4Ry",
     "type":"MD",
     "hide_input_from_viewers":true,
     "hide_output_from_viewers":false,
     "report_properties":{
      "rowId":"EEz3rm7bJlp3qtkWXWMzEo",
      "relativeY":0
     }
    }
   }
  },
  {
   "cell_type":"code",
   "source":[
    "#SVR with Tabu search\n",
    "\n",
    "\n",
    "data = pd.read_csv('\/data\/notebook_files\/FINAL_UK.csv')\n",
    "\n",
    "# Select the features\n",
    "features = ['Energy from renewable & waste sources', 'Total Energy', 'Fraction from renewable sources and waste', 'Hydroelectric power', 'Wind, wave, tidal', 'Solar photovoltaic', 'Geothermal aquifers', 'Landfill gas', 'Sewage gas', 'Biogas from autogen', 'Municipal solid waste (MSW)', 'Poultry litter', 'Straw', 'Wood', 'Charcoal', 'Liquid bio-fuels', 'Bioethanol', 'Biodiesel', 'Biomass', 'Cross-boundary Adjustment']\n",
    "X = data[features]\n",
    "y = data['Total Emissions']\n",
    "\n",
    "# Split the data into training and testing sets\n",
    "X_train, X_test, y_train, y_test = train_test_split(X, y, test_size=0.2, random_state=42)\n",
    "\n",
    "# Scaling the features\n",
    "scaler = StandardScaler()\n",
    "X_train = scaler.fit_transform(X_train)\n",
    "X_test = scaler.transform(X_test)\n",
    "\n",
    "# Initialize for Tabu Search\n",
    "n_features = len(features)\n",
    "best_features = [1] * n_features  # start using all features\n",
    "tabu_list = []\n",
    "\n",
    "# Hyperparameters for Tabu Search\n",
    "max_iter = 100  # maximum iterations\n",
    "tabu_tenure = 10  # how long a feature will stay in the tabu list\n",
    "\n",
    "for i in range(max_iter):\n",
    "    # Select features not in the tabu list\n",
    "    candidates = [best_features]\n",
    "    for j in range(n_features):\n",
    "        if j not in tabu_list:\n",
    "            candidate = best_features.copy()\n",
    "            candidate[j] = 1 - candidate[j]  # flip the j-th feature\n",
    "            candidates.append(candidate)\n",
    "    \n",
    "    # Evaluate all candidates\n",
    "    best_score = float('inf')\n",
    "    for candidate in candidates:\n",
    "        selected_features = [features[i] for i in range(n_features) if candidate[i]]\n",
    "        X_train_selected = X_train[:, candidate]\n",
    "        X_test_selected = X_test[:, candidate]\n",
    "        \n",
    "        # Train the model and compute error\n",
    "        model = SVR(kernel='linear').fit(X_train_selected, y_train)\n",
    "        y_pred = model.predict(X_test_selected)\n",
    "        score = mean_squared_error(y_test, y_pred)\n",
    "        \n",
    "        # Update best score and best features\n",
    "        if score < best_score:\n",
    "            best_score = score\n",
    "            best_features = candidate\n",
    "\n",
    "    # Update tabu list\n",
    "    if len(tabu_list) >= tabu_tenure:\n",
    "        tabu_list.pop(0)\n",
    "    tabu_list.append(best_features)\n",
    "\n",
    "# Print selected features\n",
    "selected_features = [features[i] for i in range(n_features) if best_features[i]]\n",
    "print('Selected features:', selected_features)\n",
    "\n",
    "# Get the selected features\n",
    "X_train_selected = X_train[:, best_features]\n",
    "X_test_selected = X_test[:, best_features]\n",
    "\n",
    "# Train the SVR model using the selected features\n",
    "model = SVR(kernel='linear')\n",
    "model.fit(X_train_selected, y_train)\n",
    "\n",
    "# Make predictions on the test set\n",
    "y_pred = model.predict(X_test_selected)\n",
    "\n",
    "# Calculate R-squared and Mean Squared Error\n",
    "r2 = r2_score(y_test, y_pred)\n",
    "mse = mean_squared_error(y_test, y_pred)\n",
    "\n",
    "print('R-squared:', r2)\n",
    "print('Mean Squared Error:', mse)\n",
    "\n",
    "# Plotting the predicted and actual values\n",
    "plt.scatter(range(len(y_test)), y_test, color='blue', label='Actual Values')\n",
    "plt.scatter(range(len(y_test)), y_pred, color='red', label='Predicted Values')\n",
    "plt.xlabel('Data Points')\n",
    "plt.ylabel('Total Emissions')\n",
    "plt.title('Actual vs Predicted Values')\n",
    "plt.legend()\n",
    "plt.show()"
   ],
   "execution_count":29,
   "outputs":[
    {
     "name":"stdout",
     "text":[
      "Selected features: ['Hydroelectric power', 'Wind, wave, tidal', 'Solar photovoltaic', 'Geothermal aquifers', 'Landfill gas', 'Sewage gas', 'Biogas from autogen', 'Municipal solid waste (MSW)', 'Poultry litter', 'Straw', 'Wood', 'Charcoal', 'Liquid bio-fuels']\n",
      "R-squared: 0.9889945412504892\n",
      "Mean Squared Error: 76.1874394616748\n"
     ],
     "output_type":"stream"
    },
    {
     "data":{
      "image\/png":"[encoded data removed]"
     },
     "metadata":{
      "image\/png":{
       
      }
     },
     "output_type":"display_data"
    }
   ],
   "metadata":{
    "datalore":{
     "node_id":"NEbzV49Wre4ax8RW1Z46GP",
     "type":"CODE",
     "hide_input_from_viewers":false,
     "hide_output_from_viewers":false,
     "report_properties":{
      "rowId":"YB5y74dWcWXZ45hzP4iQ6k",
      "relativeY":0
     }
    }
   }
  },
  {
   "cell_type":"markdown",
   "source":[
    "# SVR with Greedy Search\n"
   ],
   "attachments":{
    
   },
   "metadata":{
    "datalore":{
     "node_id":"1LwyY935wCNzibLBxHWQDy",
     "type":"MD",
     "hide_input_from_viewers":true,
     "hide_output_from_viewers":true
    }
   }
  },
  {
   "cell_type":"code",
   "source":[
    "# SVR with Greedy search\n",
    "\n",
    "\n",
    "data = pd.read_csv('\/data\/notebook_files\/FINAL_UK.csv')\n",
    "\n",
    "# Select the features\n",
    "features = ['Energy from renewable & waste sources', 'Total Energy', 'Fraction from renewable sources and waste', 'Hydroelectric power', 'Wind, wave, tidal', 'Solar photovoltaic', 'Geothermal aquifers', 'Landfill gas', 'Sewage gas', 'Biogas from autogen', 'Municipal solid waste (MSW)', 'Poultry litter', 'Straw', 'Wood', 'Charcoal', 'Liquid bio-fuels', 'Bioethanol', 'Biodiesel', 'Biomass', 'Cross-boundary Adjustment']\n",
    "X = data[features]\n",
    "y = data['Total Emissions']\n",
    "\n",
    "# Split the data into training and testing sets\n",
    "X_train, X_test, y_train, y_test = train_test_split(X, y, test_size=0.2, random_state=42)\n",
    "\n",
    "# Scaling the features\n",
    "scaler = StandardScaler()\n",
    "X_train = scaler.fit_transform(X_train)\n",
    "X_test = scaler.transform(X_test)\n",
    "\n",
    "# Initialize for Greedy Search\n",
    "n_features = len(features)\n",
    "selected_features = []  # start with no features\n",
    "best_score = float('inf')  # initialize with maximum error\n",
    "\n",
    "for _ in range(n_features):\n",
    "    best_score_new = float('inf')\n",
    "\n",
    "    for i in range(n_features):\n",
    "        if i not in selected_features:\n",
    "            candidate_features = selected_features + [i]\n",
    "            X_train_selected = X_train[:, candidate_features]\n",
    "            X_test_selected = X_test[:, candidate_features]\n",
    "\n",
    "            # Train the model and compute error\n",
    "            model = SVR(kernel='linear').fit(X_train_selected, y_train)\n",
    "            y_pred = model.predict(X_test_selected)\n",
    "            score = mean_squared_error(y_test, y_pred)\n",
    "\n",
    "            # Update the best new score and the best new feature\n",
    "            if score < best_score_new:\n",
    "                best_score_new = score\n",
    "                best_feature_new = i\n",
    "\n",
    "    # If no improvement, break\n",
    "    if best_score_new >= best_score:\n",
    "        break\n",
    "\n",
    "    # Otherwise, add the new feature to the selected features\n",
    "    selected_features.append(best_feature_new)\n",
    "    best_score = best_score_new\n",
    "\n",
    "# Print selected features\n",
    "print('Selected features:', [features[i] for i in selected_features])\n",
    "\n",
    "# Get the selected features\n",
    "X_train_selected = X_train[:, selected_features]\n",
    "X_test_selected = X_test[:, selected_features]\n",
    "\n",
    "# Train the SVR model using the selected features\n",
    "model = SVR(kernel='linear')\n",
    "model.fit(X_train_selected, y_train)\n",
    "\n",
    "# Make predictions on the test set\n",
    "y_pred = model.predict(X_test_selected)\n",
    "\n",
    "# Calculate R-squared and Mean Squared Error\n",
    "r2 = r2_score(y_test, y_pred)\n",
    "mse = mean_squared_error(y_test, y_pred)\n",
    "\n",
    "print('R-squared:', r2)\n",
    "print('Mean Squared Error:', mse)\n",
    "\n",
    "# Plot the results\n",
    "plt.scatter(y_test, y_test, c='blue', label='Actual Values')\n",
    "plt.scatter(y_test, y_pred, c='red', label='Predicted Values')\n",
    "plt.xlabel('Actual Values')\n",
    "plt.ylabel('Predicted Values')\n",
    "plt.title('Actual vs Predicted')\n",
    "plt.legend()\n",
    "plt.show()"
   ],
   "execution_count":22,
   "outputs":[
    {
     "name":"stdout",
     "text":[
      "Selected features: ['Sewage gas', 'Energy from renewable & waste sources', 'Biogas from autogen', 'Wind, wave, tidal', 'Total Energy', 'Liquid bio-fuels']\n",
      "R-squared: 0.9973508020703704\n",
      "Mean Squared Error: 18.33959051408225\n"
     ],
     "output_type":"stream"
    },
    {
     "data":{
      "image\/png":"[encoded data removed]"
     },
     "metadata":{
      "image\/png":{
       
      }
     },
     "output_type":"display_data"
    }
   ],
   "metadata":{
    "datalore":{
     "node_id":"Lfzgj3mW8fPJGDBdg77Il2",
     "type":"CODE",
     "hide_input_from_viewers":false,
     "hide_output_from_viewers":false,
     "report_properties":{
      "rowId":"d4VNpLLXkWEBagKJUPxEbt",
      "relativeY":0
     }
    }
   }
  },
  {
   "cell_type":"markdown",
   "source":[
    "# K-fold cross validations"
   ],
   "attachments":{
    
   },
   "metadata":{
    "datalore":{
     "node_id":"8FntMbYx5F3JLJKNZOeohI",
     "type":"MD",
     "hide_input_from_viewers":true,
     "hide_output_from_viewers":false,
     "report_properties":{
      "rowId":"bo91bkuG5vXcPbadVysPEx",
      "relativeY":0
     }
    }
   }
  },
  {
   "cell_type":"code",
   "source":[
    "# K-fold cross validation for greedy approach\n",
    "\n",
    "\n",
    "from sklearn.model_selection import cross_val_score, KFold\n",
    "\n",
    "\n",
    "data = pd.read_csv('\/data\/notebook_files\/FINAL_UK.csv')\n",
    "\n",
    "# Select the features\n",
    "features = ['Energy from renewable & waste sources', 'Total Energy', 'Fraction from renewable sources and waste', 'Hydroelectric power', 'Wind, wave, tidal', 'Solar photovoltaic', 'Geothermal aquifers', 'Landfill gas', 'Sewage gas', 'Biogas from autogen', 'Municipal solid waste (MSW)', 'Poultry litter', 'Straw', 'Wood', 'Charcoal', 'Liquid bio-fuels', 'Bioethanol', 'Biodiesel', 'Biomass', 'Cross-boundary Adjustment']\n",
    "X = data[features]\n",
    "y = data['Total Emissions']\n",
    "\n",
    "# Scaling the features\n",
    "scaler = StandardScaler()\n",
    "X_scaled = scaler.fit_transform(X)\n",
    "\n",
    "# Initialize for Greedy Search\n",
    "n_features = len(features)\n",
    "selected_features = []  # start with no features\n",
    "best_score = float('inf')  # initialize with maximum error\n",
    "\n",
    "for _ in range(n_features):\n",
    "    best_score_new = float('inf')\n",
    "\n",
    "    for i in range(n_features):\n",
    "        if i not in selected_features:\n",
    "            candidate_features = selected_features + [i]\n",
    "            X_selected = X_scaled[:, candidate_features]\n",
    "\n",
    "            # Train the model and compute error using cross-validation\n",
    "            model = SVR(kernel='linear')\n",
    "            scores = cross_val_score(model, X_selected, y, cv=10, scoring='neg_mean_squared_error')\n",
    "\n",
    "            # Average MSE scores\n",
    "            score = -1 * scores.mean()\n",
    "\n",
    "            # Update the best new score and the best new feature\n",
    "            if score < best_score_new:\n",
    "                best_score_new = score\n",
    "                best_feature_new = i\n",
    "\n",
    "    # If adding a new feature does not improve the performance, stop\n",
    "    if best_score_new >= best_score:\n",
    "        break\n",
    "\n",
    "    # Otherwise, add the new feature to the selected features\n",
    "    selected_features.append(best_feature_new)\n",
    "    best_score = best_score_new\n",
    "\n",
    "# Print selected features\n",
    "print('Selected features:', [features[i] for i in selected_features])\n",
    "\n",
    "# Train final model on all data with selected features\n",
    "X_selected = X_scaled[:, selected_features]\n",
    "model = SVR(kernel='linear')\n",
    "model.fit(X_selected, y)\n",
    "\n",
    "# Perform cross-validation to evaluate model\n",
    "scores = cross_val_score(model, X_selected, y, cv=10, scoring='neg_mean_squared_error')\n",
    "r2_scores = cross_val_score(model, X_selected, y, cv=10, scoring='r2')\n",
    "\n",
    "print('Cross-validated MSE:', -1 * scores.mean())\n",
    "print('Cross-validated R^2:', r2_scores.mean())\n"
   ],
   "execution_count":30,
   "outputs":[
    {
     "name":"stdout",
     "text":[
      "Selected features: ['Sewage gas', 'Bioethanol', 'Wind, wave, tidal', 'Biogas from autogen', 'Solar photovoltaic', 'Municipal solid waste (MSW)', 'Fraction from renewable sources and waste', 'Liquid bio-fuels', 'Hydroelectric power', 'Poultry litter', 'Energy from renewable & waste sources', 'Total Energy']\n",
      "Cross-validated MSE: 132.76168581495318\n",
      "Cross-validated R^2: -3.8279316747407\n"
     ],
     "output_type":"stream"
    }
   ],
   "metadata":{
    "datalore":{
     "node_id":"WAN8hvoFk74a7VknvjxLWS",
     "type":"CODE",
     "hide_input_from_viewers":false,
     "hide_output_from_viewers":false,
     "report_properties":{
      "rowId":"mU9TBuClnTVkoGesINWT0t",
      "relativeY":0
     }
    }
   }
  },
  {
   "cell_type":"code",
   "source":[
    "# K-fold cross validation SVR without optimisation\n",
    "\n",
    "\n",
    "data = pd.read_csv('\/data\/notebook_files\/FINAL_UK.csv')\n",
    "\n",
    "# Select the features\n",
    "features = ['Energy from renewable & waste sources', 'Total Energy', 'Fraction from renewable sources and waste', 'Hydroelectric power', 'Wind, wave, tidal', 'Solar photovoltaic', 'Geothermal aquifers', 'Landfill gas', 'Sewage gas', 'Biogas from autogen', 'Municipal solid waste (MSW)', 'Poultry litter', 'Straw', 'Wood', 'Charcoal', 'Liquid bio-fuels', 'Bioethanol', 'Biodiesel', 'Biomass', 'Cross-boundary Adjustment']\n",
    "X = data[features]\n",
    "y = data['Total Emissions']\n",
    "\n",
    "# Scaling the features\n",
    "scaler = StandardScaler()\n",
    "X_scaled = scaler.fit_transform(X)\n",
    "\n",
    "# Create the SVR model with a linear kernel\n",
    "svr = SVR(kernel='linear')\n",
    "\n",
    "# Train the model on the whole dataset\n",
    "svr.fit(X_scaled, y)\n",
    "\n",
    "# Perform cross-validation to evaluate model\n",
    "scores = cross_val_score(svr, X_scaled, y, cv=10, scoring='neg_mean_squared_error')\n",
    "r2_scores = cross_val_score(svr, X_scaled, y, cv=10, scoring='r2')\n",
    "\n",
    "print('Cross-validated MSE:', -1 * scores.mean())\n",
    "print('Cross-validated R^2:', r2_scores.mean())\n",
    "\n",
    "# Make predictions on the whole dataset\n",
    "y_pred = svr.predict(X_scaled)\n",
    "\n",
    "# Plot the results\n",
    "plt.scatter(y, y_pred, color='blue', label='Predictions')\n",
    "plt.scatter(y, y, color='red', label='True Values')\n",
    "plt.xlabel('True Values')\n",
    "plt.ylabel('Predictions')\n",
    "plt.title('Total Emissions: True vs. Predicted')\n",
    "plt.legend()\n",
    "plt.show()"
   ],
   "execution_count":25,
   "outputs":[
    {
     "name":"stdout",
     "text":[
      "Cross-validated MSE: 177.7364352964788\n",
      "Cross-validated R^2: -6.734964804667747\n"
     ],
     "output_type":"stream"
    },
    {
     "data":{
      "image\/png":"[encoded data removed]"
     },
     "metadata":{
      "image\/png":{
       
      }
     },
     "output_type":"display_data"
    }
   ],
   "metadata":{
    "datalore":{
     "node_id":"C27q6A2ik6lNx3GvUG5YJ7",
     "type":"CODE",
     "hide_input_from_viewers":false,
     "hide_output_from_viewers":false,
     "report_properties":{
      "rowId":"tkTAwOAoBwlDR0HhA4y3ui",
      "relativeY":0
     }
    }
   }
  },
  {
   "cell_type":"code",
   "source":[
    "# K-fold cross validation  or 'random' 'intuitive' feature selection\n",
    "\n",
    "\n",
    "data = pd.read_csv('\/data\/notebook_files\/FINAL_UK.csv')\n",
    "\n",
    "# Select the features\n",
    "features = ['Energy from renewable & waste sources', 'Total Energy', 'Fraction from renewable sources and waste']\n",
    "X = data[features]\n",
    "y = data['Total Emissions']\n",
    "\n",
    "# Scaling the features\n",
    "scaler = StandardScaler()\n",
    "X_scaled = scaler.fit_transform(X)\n",
    "\n",
    "# Create the SVR model with a linear kernel\n",
    "svr = SVR(kernel='linear')\n",
    "\n",
    "# Train the model on the whole dataset\n",
    "svr.fit(X_scaled, y)\n",
    "\n",
    "# Perform cross-validation to evaluate model\n",
    "scores = cross_val_score(svr, X_scaled, y, cv=10, scoring='neg_mean_squared_error')\n",
    "r2_scores = cross_val_score(svr, X_scaled, y, cv=10, scoring='r2')\n",
    "\n",
    "print('Cross-validated MSE:', -1 * scores.mean())\n",
    "print('Cross-validated R^2:', r2_scores.mean())\n",
    "\n",
    "# Make predictions on the whole dataset\n",
    "y_pred = svr.predict(X_scaled)\n",
    "\n",
    "# Plot the results\n",
    "plt.scatter(y, y_pred, color='blue', label='Predictions')\n",
    "plt.scatter(y, y, color='red', label='True Values')\n",
    "plt.xlabel('True Values')\n",
    "plt.ylabel('Predictions')\n",
    "plt.title('Total Emissions: True vs. Predicted')\n",
    "plt.legend()\n",
    "plt.show()"
   ],
   "execution_count":31,
   "outputs":[
    {
     "name":"stdout",
     "text":[
      "Cross-validated MSE: 2249.18909830411\n",
      "Cross-validated R^2: -15.881981568646182\n"
     ],
     "output_type":"stream"
    },
    {
     "data":{
      "image\/png":"[encoded data removed]"
     },
     "metadata":{
      "image\/png":{
       
      }
     },
     "output_type":"display_data"
    }
   ],
   "metadata":{
    "datalore":{
     "node_id":"bk0hjjC9AvtCmw3EQED8x9",
     "type":"CODE",
     "hide_input_from_viewers":false,
     "hide_output_from_viewers":false,
     "report_properties":{
      "rowId":"81p0wnfOndOW7haYaa22LM",
      "relativeY":0
     }
    }
   }
  },
  {
   "cell_type":"code",
   "source":[
    "# K-fold of SVR with Tabu search\n",
    "\n",
    "\n",
    "data = pd.read_csv('\/data\/notebook_files\/FINAL_UK.csv')\n",
    "\n",
    "features = ['Energy from renewable & waste sources', 'Total Energy', 'Fraction from renewable sources and waste', 'Hydroelectric power', 'Wind, wave, tidal', 'Solar photovoltaic', 'Geothermal aquifers', 'Landfill gas', 'Sewage gas', 'Biogas from autogen', 'Municipal solid waste (MSW)', 'Poultry litter', 'Straw', 'Wood', 'Charcoal', 'Liquid bio-fuels', 'Bioethanol', 'Biodiesel', 'Biomass', 'Cross-boundary Adjustment']\n",
    "X = data[features]\n",
    "y = data['Total Emissions']\n",
    "\n",
    "X_train, X_test, y_train, y_test = train_test_split(X, y, test_size=0.2, random_state=42)\n",
    "\n",
    "scaler = StandardScaler()\n",
    "X_train = scaler.fit_transform(X_train)\n",
    "X_test = scaler.transform(X_test)\n",
    "\n",
    "n_features = len(features)\n",
    "best_features = [1] * n_features\n",
    "tabu_list = []\n",
    "\n",
    "max_iter = 100\n",
    "tabu_tenure = 10\n",
    "\n",
    "kfold = KFold(n_splits=10, shuffle=True, random_state=1)\n",
    "\n",
    "for i in range(max_iter):\n",
    "    candidates = [best_features]\n",
    "    for j in range(n_features):\n",
    "        if j not in tabu_list:\n",
    "            candidate = best_features.copy()\n",
    "            candidate[j] = 1 - candidate[j]\n",
    "            candidates.append(candidate)\n",
    "    \n",
    "    best_score = float('inf')\n",
    "    for candidate in candidates:\n",
    "        selected_features = [features[i] for i in range(n_features) if candidate[i]]\n",
    "        X_train_selected = X_train[:, candidate]\n",
    "\n",
    "        model = SVR(kernel='linear')\n",
    "        \n",
    "        mse_scores = cross_val_score(model, X_train_selected, y_train, cv=kfold, scoring='neg_mean_squared_error')\n",
    "        mse_scores = -mse_scores\n",
    "        score = np.mean(mse_scores)\n",
    "        \n",
    "        if score < best_score:\n",
    "            best_score = score\n",
    "            best_features = candidate\n",
    "\n",
    "    if len(tabu_list) >= tabu_tenure:\n",
    "        tabu_list.pop(0)\n",
    "    tabu_list.append(best_features)\n",
    "\n",
    "selected_features = [features[i] for i in range(n_features) if best_features[i]]\n",
    "print('Selected features:', selected_features)\n",
    "\n",
    "X_train_selected = X_train[:, best_features]\n",
    "X_test_selected = X_test[:, best_features]\n",
    "\n",
    "model = SVR(kernel='linear')\n",
    "model.fit(X_train_selected, y_train)\n",
    "\n",
    "mse_scores = cross_val_score(model, X_train_selected, y_train, cv=kfold, scoring='neg_mean_squared_error')\n",
    "mse_scores = -mse_scores\n",
    "print('Mean MSE across all folds:', np.mean(mse_scores))\n",
    "\n",
    "r2_scores = cross_val_score(model, X_train_selected, y_train, cv=kfold, scoring='r2')\n",
    "print('Mean R-squared across all folds:', np.mean(r2_scores))"
   ],
   "execution_count":43,
   "outputs":[
    {
     "name":"stdout",
     "text":[
      "Selected features: ['Sewage gas', 'Biogas from autogen', 'Municipal solid waste (MSW)', 'Poultry litter', 'Straw', 'Wood', 'Charcoal', 'Liquid bio-fuels']\n",
      "Mean MSE across all folds: 286.4127016478953\n",
      "Mean R-squared across all folds: -0.23045438949980893\n"
     ],
     "output_type":"stream"
    }
   ],
   "metadata":{
    "datalore":{
     "node_id":"YQIeB5f5WSXTIJJbLbJnbI",
     "type":"CODE",
     "hide_input_from_viewers":false,
     "hide_output_from_viewers":false,
     "report_properties":{
      "rowId":"QzXWaSzsn2rMzk5lACudMU",
      "relativeY":0
     }
    }
   }
  },
  {
   "cell_type":"markdown",
   "source":[
    "# Data Scaling"
   ],
   "attachments":{
    
   },
   "metadata":{
    "datalore":{
     "node_id":"g96owKGrJ50IqvBHL1HlG5",
     "type":"MD",
     "hide_input_from_viewers":true,
     "hide_output_from_viewers":false,
     "report_properties":{
      "rowId":"KI0eUrN6iNTIt4eJIQm8hv",
      "relativeY":0
     }
    }
   }
  },
  {
   "cell_type":"code",
   "source":[
    "#Scaling the data with a table\n",
    "import pandas as pd\n",
    "from sklearn.preprocessing import StandardScaler\n",
    "\n",
    "import pandas as pd\n",
    "from sklearn.preprocessing import StandardScaler\n",
    "\n",
    "data = pd.read_csv('\/data\/notebook_files\/FINAL_UK.csv')\n",
    "\n",
    "# columns for scaling \n",
    "feature_columns = data.columns.drop(['Total Emissions', 'Country'])\n",
    "features = data[feature_columns]\n",
    "\n",
    "# scaling\n",
    "scaler = StandardScaler()\n",
    "scaled_features = scaler.fit_transform(features)\n",
    "\n",
    "# Convert to df\n",
    "scaled_data = pd.DataFrame(scaled_features, columns=[f'scaled_{col}' for col in feature_columns])\n",
    "\n",
    "# Concatenate for comparison\n",
    "comparison_data = pd.concat([features.reset_index(drop=True), scaled_data.reset_index(drop=True)], axis=1)\n",
    "\n",
    "# Print the comparison table\n",
    "print(comparison_data)"
   ],
   "execution_count":39,
   "outputs":[
    {
     "name":"stdout",
     "text":[
      "    Year        Coal         Oil         Gas    Cement   Flaring     Other  \\\n",
      "0   1990  252.689667  217.799809  113.517625  7.295263  6.787080  3.855634   \n",
      "1   1991  253.622509  218.390340  121.693416  5.994176  6.260327  3.451905   \n",
      "2   1992  237.746940  218.446760  122.295506  5.456386  6.444191  3.456140   \n",
      "3   1993  207.685853  219.163179  137.590681  5.524922  6.635621  3.012280   \n",
      "4   1994  195.375628  215.736312  145.455289  6.367810  7.425508  3.656342   \n",
      "5   1995  181.699266  211.595054  154.253805  6.284903  8.341181  3.984749   \n",
      "6   1996  173.071522  216.892453  177.542516  6.416449  8.706841  4.130894   \n",
      "7   1997  154.728657  207.743352  182.886752  6.710493  7.210749  3.428103   \n",
      "8   1998  154.087839  204.933885  191.361381  6.838169  7.448362  3.874060   \n",
      "9   1999  138.313400  201.663020  205.231254  6.530861  6.170552  3.740487   \n",
      "10  2000  144.443080  198.237954  210.131006  6.331884  6.446023  3.443769   \n",
      "11  2001  153.533658  198.650759  210.160357  5.843838  6.493080  3.288881   \n",
      "12  2002  141.691083  196.130348  207.030373  5.988265  6.178655  3.254476   \n",
      "13  2003  153.102776  194.397355  208.462265  5.867549  5.563120  4.225717   \n",
      "14  2004  147.662298  197.952289  211.734175  5.976630  5.618775  4.485595   \n",
      "15  2005  148.032654  200.447656  205.437837  5.941163  5.991193  4.487867   \n",
      "16  2006  160.843769  197.183104  194.126410  5.892780  5.271742  4.527855   \n",
      "17  2007  150.843509  196.160270  196.519574  6.117015  5.417125  4.508983   \n",
      "18  2008  139.219107  188.799534  202.654948  5.204877  4.749941  4.303998   \n",
      "19  2009  113.823148  180.263880  188.070480  3.721209  4.880534  3.348450   \n",
      "20  2010  118.030363  179.848420  201.927123  3.792010  4.737995  3.568671   \n",
      "21  2011  117.149672  172.059735  168.235546  4.096816  4.453032  3.718514   \n",
      "22  2012  148.005461  170.288365  158.239900  3.723954  3.645807  3.573288   \n",
      "23  2013  142.456568  165.756488  157.622225  4.029110  4.215954  3.530924   \n",
      "24  2014  115.433547  166.510706  144.492208  4.214814  4.436023  3.719782   \n",
      "25  2015   91.548016  170.772559  147.899400  4.393361  4.641191  3.206267   \n",
      "26  2016   47.824616  173.930280  165.742039  4.553321  4.558600  2.821275   \n",
      "27  2017   39.128801  174.850612  161.697365  4.409790  4.301261  2.979312   \n",
      "28  2018   33.280249  173.087118  161.485261  4.363948  4.476409  3.036771   \n",
      "29  2019   24.512705  168.995529  159.320842  4.448499  4.283190  3.192541   \n",
      "30  2020   22.809405  143.980921  149.420095  3.899688  3.442599  2.710492   \n",
      "\n",
      "    Per Capita  Energy from renewable & waste sources  Total Energy  ...  \\\n",
      "0    10.521595                                  1.647       225.532  ...   \n",
      "1    10.624450                                  1.634       231.288  ...   \n",
      "2    10.326096                                  1.843       228.696  ...   \n",
      "3    10.054433                                  1.862       231.368  ...   \n",
      "4     9.933511                                  2.528       230.739  ...   \n",
      "5     9.773095                                  2.644       230.886  ...   \n",
      "6    10.102875                                  2.581       243.392  ...   \n",
      "7     9.660192                                  2.611       240.756  ...   \n",
      "8     9.728953                                  3.013       246.790  ...   \n",
      "9     9.578710                                  3.148       246.112  ...   \n",
      "10    9.669215                                  3.164       248.037  ...   \n",
      "11    9.780857                                  3.270       252.807  ...   \n",
      "12    9.439250                                  3.575       244.980  ...   \n",
      "13    9.582912                                  3.802       248.011  ...   \n",
      "14    9.557824                                  4.407       249.249  ...   \n",
      "15    9.445231                                  5.026       249.704  ...   \n",
      "16    9.338998                                  5.380       243.557  ...   \n",
      "17    9.134187                                  5.579       239.041  ...   \n",
      "18    8.825938                                  6.463       235.284  ...   \n",
      "19    7.938318                                  7.258       220.872  ...   \n",
      "20    8.156537                                  7.940       227.221  ...   \n",
      "21    7.422031                                  8.846       213.972  ...   \n",
      "22    7.639657                                  9.523       216.058  ...   \n",
      "23    7.427593                                 11.238       213.781  ...   \n",
      "24    6.774484                                 13.332       202.499  ...   \n",
      "25    6.477040                                 16.075       203.941  ...   \n",
      "26    6.083754                                 16.750       202.261  ...   \n",
      "27    5.863442                                 18.656       197.273  ...   \n",
      "28    5.715981                                 21.034       198.125  ...   \n",
      "29    5.462124                                 22.871       192.500  ...   \n",
      "30    4.865281                                 24.472       169.439  ...   \n",
      "\n",
      "    scaled_Municipal solid waste (MSW)  scaled_Poultry litter  scaled_Straw  \\\n",
      "0                            -1.060615              -2.319330     -0.883007   \n",
      "1                            -1.058348              -2.319330     -0.883007   \n",
      "2                            -1.030002              -2.077753     -0.883007   \n",
      "3                            -0.964239              -1.670093     -0.883007   \n",
      "4                            -0.831580              -0.794378     -0.883007   \n",
      "5                            -0.802100              -0.794378     -0.883007   \n",
      "6                            -0.819108              -0.794378     -0.883007   \n",
      "7                            -0.740873              -0.794378     -0.883007   \n",
      "8                            -0.532246              -0.628294     -0.883007   \n",
      "9                            -0.550388              -0.084747     -0.883007   \n",
      "10                           -0.499365               0.081337     -0.800090   \n",
      "11                           -0.439271               0.685279     -0.167842   \n",
      "12                           -0.366706               0.624884     -0.323312   \n",
      "13                           -0.342895               0.413505     -0.074559   \n",
      "14                           -0.372375               0.156830     -0.126383   \n",
      "15                           -0.367839               0.066239     -0.219665   \n",
      "16                           -0.297541              -0.099845     -0.178206   \n",
      "17                           -0.268062              -0.024352     -0.219665   \n",
      "18                           -0.236314               0.383308     -0.136747   \n",
      "19                           -0.033357               0.338012     -0.167842   \n",
      "20                           -0.028821               0.428604     -0.064194   \n",
      "21                           -0.035625               0.881560     -0.126383   \n",
      "22                            0.160530               0.639983     -0.002006   \n",
      "23                            0.072090               0.806067      0.132735   \n",
      "24                            0.391833               0.821165      0.381489   \n",
      "25                            0.945147               1.032545      0.775348   \n",
      "26                            1.444036               1.108038      1.604526   \n",
      "27                            1.635655               0.941954      1.749632   \n",
      "28                            2.056309               0.911757      1.728902   \n",
      "29                            2.422539               1.032545      2.516621   \n",
      "30                            2.549529               1.047643      2.547715   \n",
      "\n",
      "    scaled_Wood  scaled_Charcoal  scaled_Liquid bio-fuels  scaled_Bioethanol  \\\n",
      "0     -0.760846        -0.454071                -0.434472          -0.841008   \n",
      "1     -0.760846        -0.601724                -0.434472          -0.841008   \n",
      "2     -0.728626        -0.749376                -0.434472          -0.841008   \n",
      "3     -0.728626        -0.700159                -0.434472          -0.841008   \n",
      "4     -0.484018        -0.700159                -0.434472          -0.841008   \n",
      "5     -0.435360        -0.650941                -0.434472          -0.841008   \n",
      "6     -0.427469        -0.355636                -0.434472          -0.841008   \n",
      "7     -0.560951        -0.503289                -0.434472          -0.841008   \n",
      "8     -0.504402        -0.404854                -0.434472          -0.841008   \n",
      "9     -0.581993        -0.749376                -0.434472          -0.841008   \n",
      "10    -0.708899        -0.601724                -0.434472          -0.841008   \n",
      "11    -0.741777        -0.749376                -0.434472          -0.841008   \n",
      "12    -0.741777        -0.650941                -0.434472          -0.841008   \n",
      "13    -0.739804        -0.552506                -0.434472          -0.841008   \n",
      "14    -0.701009        -0.404854                -0.200420          -0.841008   \n",
      "15    -0.542540        -0.601724                 3.246526          -0.602279   \n",
      "16    -0.560294        -0.650941                 3.863572          -0.572438   \n",
      "17    -0.581335        -0.700159                 0.842175          -0.413285   \n",
      "18    -0.419579        -0.847811                 0.161297          -0.264079   \n",
      "19    -0.414318        -0.749376                -0.136587           0.054228   \n",
      "20    -0.293330         0.087321                -0.094033           0.929569   \n",
      "21    -0.201931        -0.011114                -0.094033           0.984278   \n",
      "22    -0.021763         0.038104                 0.608123           1.461737   \n",
      "23     0.443123         1.662282                 0.735788           1.605970   \n",
      "24     0.847515         1.662282                -0.370639           1.486605   \n",
      "25     1.526761         1.563847                -0.349362           1.451790   \n",
      "26     1.525446         0.234974                -0.413194           1.407028   \n",
      "27     1.572789         2.006804                -0.413194           1.407028   \n",
      "28     2.017949         2.892720                -0.434472           1.372214   \n",
      "29     2.318448         0.973237                -0.434472           1.362267   \n",
      "30     2.389463         1.268542                -0.434472           0.944490   \n",
      "\n",
      "    scaled_Biodiesel  scaled_Biomass  scaled_Cross-boundary Adjustment  \n",
      "0          -0.837889       -0.772970                         -0.890824  \n",
      "1          -0.837889       -0.772970                         -0.890824  \n",
      "2          -0.837889       -0.772970                         -0.890824  \n",
      "3          -0.837889       -0.772970                         -0.890824  \n",
      "4          -0.837889       -0.772970                         -0.890824  \n",
      "5          -0.837889       -0.772970                         -0.890824  \n",
      "6          -0.837889       -0.772970                         -0.890824  \n",
      "7          -0.837889       -0.772970                         -0.890824  \n",
      "8          -0.837889       -0.825560                         -0.890824  \n",
      "9          -0.837889       -0.759823                         -0.890824  \n",
      "10         -0.837889       -0.736449                         -0.890824  \n",
      "11         -0.837889       -0.753979                         -0.890824  \n",
      "12         -0.833143       -0.600592                         -0.890824  \n",
      "13         -0.799918       -0.428213                         -0.890824  \n",
      "14         -0.797545       -0.233922                         -0.890824  \n",
      "15         -0.773813       -0.293816                         -0.735681  \n",
      "16         -0.508016       -0.198862                         -0.425394  \n",
      "17         -0.161530       -0.304042                          0.040037  \n",
      "18          0.892167       -0.397536                          1.126042  \n",
      "19          1.200681       -0.193019                          1.281186  \n",
      "20          1.207801        0.040715                          1.436329  \n",
      "21          0.977601        0.116678                          1.281186  \n",
      "22          0.400916       -0.011875                          0.815755  \n",
      "23          0.657221        0.091844                          0.970898  \n",
      "24          1.025065        0.686404                          1.126042  \n",
      "25          0.476858        1.042848                          0.660611  \n",
      "26          0.552800        1.126115                          0.505468  \n",
      "27          0.524322        1.689997                          0.505468  \n",
      "28          1.390537        2.157465                          1.126042  \n",
      "29          2.292349        2.230506                          1.901760  \n",
      "30          2.330320        2.738877                          1.746616  \n",
      "\n",
      "[31 rows x 56 columns]\n"
     ],
     "output_type":"stream"
    }
   ],
   "metadata":{
    "datalore":{
     "node_id":"fSz5u6xuA6TC1U3V1WlU2R",
     "type":"CODE",
     "hide_input_from_viewers":false,
     "hide_output_from_viewers":false,
     "report_properties":{
      "rowId":"Ims3ffU5WgerFhURWdAOd5",
      "relativeY":0
     }
    }
   }
  },
  {
   "cell_type":"markdown",
   "source":[
    "# Nonlinear kernel SVR attempts: One with hyperparameter overfitting"
   ],
   "attachments":{
    
   },
   "metadata":{
    "datalore":{
     "node_id":"EWnVlTj8kPbM0zSLd2HfBb",
     "type":"MD",
     "hide_input_from_viewers":true,
     "hide_output_from_viewers":false,
     "report_properties":{
      "rowId":"jqTJtbRFcXOVheuSnAvQBF",
      "relativeY":0
     }
    }
   }
  },
  {
   "cell_type":"code",
   "source":[
    "# Nonlinear SVR kernel with ALL features and no optimisation.\n",
    "# I tried many versions of this but couldn't seem to get it right\n",
    "# Mean Squared Error: 6131.9479224840115\n",
    "# R-squared: -8.845598592882972\n",
    "import pandas as pd\n",
    "import numpy as np\n",
    "import matplotlib.pyplot as plt\n",
    "from sklearn.model_selection import train_test_split, cross_val_score, KFold, TimeSeriesSplit\n",
    "from sklearn.svm import SVR\n",
    "from sklearn.preprocessing import StandardScaler\n",
    "from sklearn.metrics import mean_squared_error, r2_score\n",
    "\n",
    "# dataset\n",
    "data = pd.read_csv('\/data\/notebook_files\/FINAL_UK.csv')\n",
    "\n",
    "\n",
    "# Feature Selection excluding 'Total Emissions' and 'Country'\n",
    "feature_columns = data.columns.drop(['Total Emissions', 'Country'])\n",
    "features = data[feature_columns]\n",
    "\n",
    "# Scaling the features\n",
    "scaler = StandardScaler()\n",
    "scaled_features = scaler.fit_transform(features)\n",
    "\n",
    "# Split the data into training, validation, and testing sets\n",
    "X = scaled_features\n",
    "y = data['Total Emissions'].values\n",
    "X_train, X_temp, y_train, y_temp = train_test_split(X, y, test_size=0.4, shuffle=False)\n",
    "X_val, X_test, y_val, y_test = train_test_split(X_temp, y_temp, test_size=0.5, shuffle=False)\n",
    "\n",
    "# Create the SVR model\n",
    "svr = SVR()\n",
    "\n",
    "# Train the model on the training set\n",
    "svr.fit(X_train, y_train)\n",
    "\n",
    "# Predict on the validation set\n",
    "y_val_pred = svr.predict(X_val)\n",
    "\n",
    "# Evaluate the performance\n",
    "mse = mean_squared_error(y_val, y_val_pred)\n",
    "r2 = r2_score(y_val, y_val_pred)\n",
    "\n",
    "print(f'Mean Squared Error: {mse}')\n",
    "print(f'R-squared: {r2}')\n",
    "\n",
    "# If you want to see the names of the features being used\n",
    "print(\"Features used:\", feature_columns.tolist())"
   ],
   "execution_count":14,
   "outputs":[
    {
     "name":"stdout",
     "text":[
      "Mean Squared Error: 6131.9479224840115\n",
      "R-squared: -8.845598592882972\n",
      "Features used: ['Year', 'Coal', 'Oil', 'Gas', 'Cement', 'Flaring', 'Other', 'Per Capita', 'Energy from renewable & waste sources', 'Total Energy', 'Fraction from renewable sources and waste', 'Hydroelectric power', 'Wind, wave, tidal', 'Solar photovoltaic', 'Geothermal aquifers', 'Landfill gas', 'Sewage gas', 'Biogas from autogen', 'Municipal solid waste (MSW)', 'Poultry litter', 'Straw', 'Wood', 'Charcoal', 'Liquid bio-fuels', 'Bioethanol', 'Biodiesel', 'Biomass', 'Cross-boundary Adjustment']\n"
     ],
     "output_type":"stream"
    }
   ],
   "metadata":{
    "datalore":{
     "node_id":"lgWoFpiOvWS97EFh7rWXxH",
     "type":"CODE",
     "hide_input_from_viewers":false,
     "hide_output_from_viewers":false,
     "report_properties":{
      "rowId":"qkKSj3ojQVvXkgtPUF0yTL",
      "relativeY":0
     }
    }
   }
  },
  {
   "cell_type":"code",
   "source":[
    "# Overfitting nonlinear SVR with hyperparameters\n",
    "\n",
    "import pandas as pd\n",
    "import pandas as pd\n",
    "import numpy as np\n",
    "import matplotlib.pyplot as plt\n",
    "from sklearn.model_selection import train_test_split, cross_val_score, KFold, TimeSeriesSplit\n",
    "from sklearn.svm import SVR\n",
    "from sklearn.preprocessing import StandardScaler\n",
    "from sklearn.metrics import mean_squared_error, r2_score\n",
    "data = pd.read_csv('\/data\/notebook_files\/FINAL_UK.csv')\n",
    "\n",
    "# Select the features that represent parts of total emissions\n",
    "features = ['Coal', 'Oil', 'Gas', 'Cement', 'Flaring', 'Other']\n",
    "\n",
    "# X is the feature matrix and y is the target variable\n",
    "X = data[features].values\n",
    "y = data['Total Emissions'].values\n",
    "\n",
    "# Scale the features\n",
    "scaler = StandardScaler()\n",
    "X_scaled = scaler.fit_transform(X)\n",
    "\n",
    "# TimeSeriesSplit\n",
    "tscv = TimeSeriesSplit(n_splits=5)\n",
    "\n",
    "# Best hyperparameters from tuning\n",
    "best_params = {'C': 100, 'epsilon': 0.01, 'kernel': 'linear'}\n",
    "\n",
    "# Create the SVR model with the best hyperparameters\n",
    "svr = SVR(C=best_params['C'], epsilon=best_params['epsilon'], kernel=best_params['kernel'])\n",
    "\n",
    "# Iterate through the time-based splits\n",
    "for train_index, test_index in tscv.split(X_scaled):\n",
    "    X_train, X_test = X_scaled[train_index], X_scaled[test_index]\n",
    "    y_train, y_test = y[train_index], y[test_index]\n",
    "\n",
    "    # Train the model on the training set\n",
    "    svr.fit(X_train, y_train)\n",
    "\n",
    "    # Make predictions on the test set\n",
    "    y_pred = svr.predict(X_test)\n",
    "\n",
    "    # Calculate performance metrics\n",
    "    mse = mean_squared_error(y_test, y_pred)\n",
    "    r2 = r2_score(y_test, y_pred)\n",
    "    print(f'Mean Squared Error: {mse}')\n",
    "    print(f'R-squared: {r2}')"
   ],
   "execution_count":10,
   "outputs":[
    {
     "name":"stdout",
     "text":[
      "Mean Squared Error: 171.9364909394531\n",
      "R-squared: -1.1146531818173755\n",
      "Mean Squared Error: 0.00029697705303428505\n",
      "R-squared: 0.9999912655098255\n",
      "Mean Squared Error: 0.002016435337008738\n",
      "R-squared: 0.9999974695405557\n",
      "Mean Squared Error: 0.0009192106800819201\n",
      "R-squared: 0.9999984754626406\n",
      "Mean Squared Error: 0.0005427345143710866\n",
      "R-squared: 0.9999991497115455\n"
     ],
     "output_type":"stream"
    }
   ],
   "metadata":{
    "datalore":{
     "node_id":"vWnAZuPPwRKyg6svvn8FiW",
     "type":"CODE",
     "hide_input_from_viewers":false,
     "hide_output_from_viewers":false,
     "report_properties":{
      "rowId":"Q9n6pUs0iBuUP9PcLJQMpq",
      "relativeY":0
     }
    }
   }
  },
  {
   "cell_type":"markdown",
   "source":[
    "# Hypothetical"
   ],
   "attachments":{
    
   },
   "metadata":{
    "datalore":{
     "node_id":"Hypothetical",
     "type":"MD",
     "hide_input_from_viewers":false,
     "hide_output_from_viewers":false,
     "sheet_delimiter":true
    }
   }
  },
  {
   "cell_type":"markdown",
   "source":[
    "# Hypothetical Questions Using the Model"
   ],
   "attachments":{
    
   },
   "metadata":{
    "datalore":{
     "node_id":"HWftRJHLqVVpj8NbsH5dYM",
     "type":"MD",
     "hide_input_from_viewers":true,
     "hide_output_from_viewers":false,
     "report_properties":{
      "rowId":"n8iiUFtDFe7p88zJLTQeMC",
      "relativeY":0
     }
    }
   }
  },
  {
   "cell_type":"code",
   "source":[
    "#What happens if you double renewable energy?\n",
    "\n",
    "import pandas as pd\n",
    "import numpy as np\n",
    "from sklearn.model_selection import train_test_split\n",
    "from sklearn.svm import SVR\n",
    "from sklearn.preprocessing import StandardScaler\n",
    "from sklearn.metrics import mean_squared_error, r2_score\n",
    "import matplotlib.pyplot as plt\n",
    "import seaborn as sns\n",
    "\n",
    "data = pd.read_csv('\/data\/notebook_files\/FINAL_UK.csv')\n",
    "\n",
    "# Select the features\n",
    "features = ['Energy from renewable & waste sources', 'Fraction from renewable sources and waste', 'Hydroelectric power', 'Wind, wave, tidal', 'Solar photovoltaic', 'Geothermal aquifers', 'Landfill gas', 'Sewage gas', 'Biogas from autogen', 'Municipal solid waste (MSW)', 'Poultry litter', 'Straw', 'Wood', 'Charcoal', 'Liquid bio-fuels', 'Bioethanol', 'Biodiesel', 'Biomass', 'Cross-boundary Adjustment']\n",
    "X = data[features]\n",
    "y = data['Total Emissions']\n",
    "\n",
    "# Split the data into training and testing sets\n",
    "X_train, X_test, y_train, y_test = train_test_split(X, y, test_size=0.2, random_state=42)\n",
    "\n",
    "# Scaling the features\n",
    "scaler = StandardScaler()\n",
    "X_train_scaled = scaler.fit_transform(X_train)\n",
    "X_test_scaled = scaler.transform(X_test)\n",
    "\n",
    "# Create the SVR model with a linear kernel\n",
    "svr = SVR(kernel='linear')\n",
    "\n",
    "# Train the model on the training set\n",
    "svr.fit(X_train_scaled, y_train)\n",
    "\n",
    "# Make predictions on the test set\n",
    "y_pred = svr.predict(X_test_scaled)\n",
    "\n",
    "# Evaluate the performance\n",
    "mse = mean_squared_error(y_test, y_pred)\n",
    "r2 = r2_score(y_test, y_pred)\n",
    "\n",
    "print(f'Mean Squared Error: {mse}')\n",
    "print(f'R-squared: {r2}')\n",
    "\n",
    "# Calculate predicted total emissions without doubling renewable sources\n",
    "y_pred_original = svr.predict(X_test_scaled)\n",
    "\n",
    "# Double the energy from renewable & waste sources\n",
    "X_modified = X.copy()\n",
    "X_modified['Energy from renewable & waste sources'] *= 2\n",
    "\n",
    "# Scaling the modified features\n",
    "X_modified_scaled = scaler.transform(X_modified)\n",
    "\n",
    "# Make predictions on the modified data\n",
    "y_pred_modified = svr.predict(X_modified_scaled)\n",
    "\n",
    "# Calculate predicted total emissions after doubling \n",
    "predicted_emissions_original = y_pred_original[-1]  \n",
    "predicted_emissions_modified = y_pred_modified[-1]  \n",
    "\n",
    "# Calculate percentage reduction in emissions\n",
    "percentage_reduction = (predicted_emissions_original - predicted_emissions_modified) \/ predicted_emissions_original * 100\n",
    "\n",
    "print(f'Predicted Total Emissions (without doubling renewable sources): {predicted_emissions_original}')\n",
    "print(f'Predicted Total Emissions (with doubling renewable sources): {predicted_emissions_modified}')\n",
    "print(f'Percentage Reduction in Emissions: {percentage_reduction:.2f}%')"
   ],
   "execution_count":8,
   "outputs":[
    {
     "name":"stdout",
     "text":[
      "Mean Squared Error: 69.0934875087368\n",
      "R-squared: 0.9900192796606617\n",
      "Predicted Total Emissions (without doubling renewable sources): 355.92916018290487\n",
      "Predicted Total Emissions (with doubling renewable sources): 319.65658177813555\n",
      "Percentage Reduction in Emissions: 10.19%\n"
     ],
     "output_type":"stream"
    }
   ],
   "metadata":{
    "datalore":{
     "node_id":"tzQQn0ob0npR5zIHSwZKAC",
     "type":"CODE",
     "hide_input_from_viewers":false,
     "hide_output_from_viewers":false,
     "report_properties":{
      "rowId":"eHMwqGpiEWb7146IwM1FWV",
      "relativeY":0
     }
    }
   }
  },
  {
   "cell_type":"code",
   "source":[
    "# increasing renewables by 1000 percent\n",
    "\n",
    "\n",
    "\n",
    "data = pd.read_csv('\/data\/notebook_files\/FINAL_UK.csv')\n",
    "\n",
    "features = ['Energy from renewable & waste sources', 'Total Energy', 'Fraction from renewable sources and waste', 'Hydroelectric power', 'Wind, wave, tidal', 'Solar photovoltaic', 'Geothermal aquifers', 'Landfill gas', 'Sewage gas', 'Biogas from autogen', 'Municipal solid waste (MSW)', 'Poultry litter', 'Straw', 'Wood', 'Charcoal', 'Liquid bio-fuels', 'Bioethanol', 'Biodiesel', 'Biomass', 'Cross-boundary Adjustment']\n",
    "X = data[features]\n",
    "y = data['Total Emissions']\n",
    "\n",
    "# Split the data into training and testing sets\n",
    "X_train, X_test, y_train, y_test = train_test_split(X, y, test_size=0.2, random_state=42)\n",
    "\n",
    "# Scaling the features\n",
    "scaler = StandardScaler()\n",
    "X_train_scaled = scaler.fit_transform(X_train)\n",
    "X_test_scaled = scaler.transform(X_test)\n",
    "\n",
    "# Train the SVR model\n",
    "svr = SVR(kernel='linear')\n",
    "svr.fit(X_train_scaled, y_train)\n",
    "\n",
    "# Make predictions\n",
    "y_pred = svr.predict(X_test_scaled)\n",
    "\n",
    "# Evaluate the performance\n",
    "mse = mean_squared_error(y_test, y_pred)\n",
    "r2 = r2_score(y_test, y_pred)\n",
    "\n",
    "print(f'Mean Squared Error: {mse}')\n",
    "print(f'R-squared: {r2}')\n",
    "\n",
    "# Initialize lists to store the results\n",
    "percent_increase = []\n",
    "predicted_emissions = []\n",
    "\n",
    "# Increment the renewable energy from 0% to 1000%\n",
    "for i in range(1001):\n",
    "    # Modify the features by increasing renewable energy\n",
    "    X_modified = X.copy()\n",
    "    X_modified['Energy from renewable & waste sources'] *= i \/ 100\n",
    "    \n",
    "    # Scaling the modified features\n",
    "    X_modified_scaled = scaler.transform(X_modified)\n",
    "    \n",
    "    # Make predictions on the modified data\n",
    "    y_pred_modified = svr.predict(X_modified_scaled)\n",
    "    \n",
    "    # Calculate predicted total emissions\n",
    "    predicted_emissions.append(y_pred_modified[-1])  # Assuming the last prediction corresponds to the modified data\n",
    "    \n",
    "    # Calculate percentage increase in renewable energy\n",
    "    percent_increase.append(i)\n",
    "\n",
    "# Plot the results\n",
    "plt.plot(percent_increase, predicted_emissions)\n",
    "plt.xlabel('Percentage Increase in Renewable Energy')\n",
    "plt.ylabel('Predicted Total Emissions')\n",
    "plt.title('Impact of Increasing Renewable Energy on Emissions')\n",
    "plt.show()"
   ],
   "execution_count":10,
   "outputs":[
    {
     "name":"stdout",
     "text":[
      "Mean Squared Error: 61.66183709922377\n",
      "R-squared: 0.991092799424557\n"
     ],
     "output_type":"stream"
    },
    {
     "data":{
      "image\/png":"[encoded data removed]"
     },
     "metadata":{
      "image\/png":{
       
      }
     },
     "output_type":"display_data"
    }
   ],
   "metadata":{
    "datalore":{
     "node_id":"IzlVFEXR4DlyMevw785iCa",
     "type":"CODE",
     "hide_input_from_viewers":false,
     "hide_output_from_viewers":false,
     "report_properties":{
      "rowId":"P53i2zCwh1dCZc4EEoOhG2",
      "relativeY":0
     }
    }
   }
  },
  {
   "cell_type":"code",
   "source":[
    "# Impact of different renwables on carbon emissions\n",
    "\n",
    "\n",
    "data = pd.read_csv('\/data\/notebook_files\/FINAL_UK.csv')\n",
    "\n",
    "# Select features\n",
    "features = ['Energy from renewable & waste sources', 'Total Energy', 'Fraction from renewable sources and waste', 'Hydroelectric power', 'Wind, wave, tidal', 'Solar photovoltaic', 'Geothermal aquifers', 'Landfill gas', 'Sewage gas', 'Biogas from autogen', 'Municipal solid waste (MSW)', 'Poultry litter', 'Straw', 'Wood', 'Charcoal', 'Liquid bio-fuels', 'Bioethanol', 'Biodiesel', 'Biomass', 'Cross-boundary Adjustment']\n",
    "X = data[features].copy()\n",
    "y = data['Total Emissions']\n",
    "\n",
    "# Split the data into training and testing sets\n",
    "X_train, X_test, y_train, y_test = train_test_split(X, y, test_size=0.2, random_state=42)\n",
    "\n",
    "# Scaling the features\n",
    "scaler = StandardScaler()\n",
    "X_train_scaled = scaler.fit_transform(X_train)\n",
    "X_test_scaled = scaler.transform(X_test)\n",
    "\n",
    "# Create the SVR model with a linear kernel\n",
    "svr = SVR(kernel='linear')\n",
    "\n",
    "# Train the model on the training set\n",
    "svr.fit(X_train_scaled, y_train)\n",
    "\n",
    "# Make predictions on the test set\n",
    "y_pred = svr.predict(X_test_scaled)\n",
    "\n",
    "# Evaluate performance\n",
    "mse = mean_squared_error(y_test, y_pred)\n",
    "r2 = r2_score(y_test, y_pred)\n",
    "\n",
    "print(f'Mean Squared Error: {mse}')\n",
    "print(f'R-squared: {r2}')\n",
    "\n",
    "# Initialize lists to store the results\n",
    "renewable_features = ['Hydroelectric power', 'Wind, wave, tidal', 'Solar photovoltaic', 'Geothermal aquifers', 'Landfill gas', 'Sewage gas', 'Biogas from autogen', 'Municipal solid waste (MSW)', 'Poultry litter', 'Straw', 'Wood', 'Charcoal', 'Liquid bio-fuels', 'Bioethanol', 'Biodiesel', 'Biomass']\n",
    "impact_on_emissions = []\n",
    "\n",
    "# For each renewable feature\n",
    "for feature in renewable_features:\n",
    "    # Store original feature values for later use\n",
    "    original_feature_values = X.loc[:, feature].copy()\n",
    "    \n",
    "    # Modify the features by doubling the selected feature\n",
    "    X.loc[:, feature] = original_feature_values * 2\n",
    "    \n",
    "    # Scaling the modified features\n",
    "    X_scaled = scaler.transform(X)\n",
    "    \n",
    "    # Make predictions on the modified data\n",
    "    y_pred_modified = svr.predict(X_scaled)\n",
    "    \n",
    "    # Calculate the average predicted emissions\n",
    "    avg_predicted_emissions = np.mean(y_pred_modified)\n",
    "    \n",
    "    # Store the impact on emissions\n",
    "    impact_on_emissions.append(avg_predicted_emissions)\n",
    "    \n",
    "    # Restore original feature values\n",
    "    X.loc[:, feature] = original_feature_values\n",
    "\n",
    "# dataframe to store the results\n",
    "df_impact = pd.DataFrame({\n",
    "    'Feature': renewable_features,\n",
    "    'Impact on Emissions': impact_on_emissions\n",
    "})\n",
    "\n",
    "# Sort the dataframe \n",
    "df_impact.sort_values('Impact on Emissions', ascending=False, inplace=True)\n",
    "\n",
    "# Display the dataframe\n",
    "print(df_impact)\n",
    "\n",
    "# Plot the results\n",
    "plt.figure(figsize=(10, 6))\n",
    "plt.barh(df_impact['Feature'], df_impact['Impact on Emissions'], color='skyblue')\n",
    "plt.xlabel('Impact on Emissions')\n",
    "plt.ylabel('Renewable Feature')\n",
    "plt.title('Impact of Doubling Each Renewable Feature on Emissions')\n",
    "plt.gca().invert_yaxis()\n",
    "plt.show()"
   ],
   "execution_count":11,
   "outputs":[
    {
     "name":"stdout",
     "text":[
      "Mean Squared Error: 61.66183709922377\n",
      "R-squared: 0.991092799424557\n",
      "                        Feature  Impact on Emissions\n",
      "12             Liquid bio-fuels           519.560570\n",
      "3           Geothermal aquifers           517.924521\n",
      "2            Solar photovoltaic           515.822569\n",
      "6           Biogas from autogen           515.450520\n",
      "11                     Charcoal           514.520256\n",
      "15                      Biomass           514.380914\n",
      "1             Wind, wave, tidal           514.354448\n",
      "14                    Biodiesel           514.153077\n",
      "9                         Straw           513.812226\n",
      "13                   Bioethanol           513.563035\n",
      "4                  Landfill gas           512.389075\n",
      "10                         Wood           512.066114\n",
      "7   Municipal solid waste (MSW)           511.442709\n",
      "8                Poultry litter           503.606901\n",
      "5                    Sewage gas           501.318875\n",
      "0           Hydroelectric power           484.117509\n"
     ],
     "output_type":"stream"
    },
    {
     "data":{
      "image\/png":"[encoded data removed]"
     },
     "metadata":{
      "image\/png":{
       
      }
     },
     "output_type":"display_data"
    }
   ],
   "metadata":{
    "datalore":{
     "node_id":"1hIRx8ZHKCcscZ1SLl5sUT",
     "type":"CODE",
     "hide_input_from_viewers":false,
     "hide_output_from_viewers":false,
     "report_properties":{
      "rowId":"Ypndc8TdJfschd74N61XY9",
      "relativeY":0
     }
    }
   }
  },
  {
   "cell_type":"code",
   "source":[
    "# What happens as the percentage from renewables reaches 100 percent?\n",
    "\n",
    "\n",
    "data = pd.read_csv('\/data\/notebook_files\/FINAL_UK.csv')\n",
    "\n",
    "# Select the features\n",
    "features = ['Energy from renewable & waste sources', 'Total Energy', 'Fraction from renewable sources and waste', 'Hydroelectric power', 'Wind, wave, tidal', 'Solar photovoltaic', 'Geothermal aquifers', 'Landfill gas', 'Sewage gas', 'Biogas from autogen', 'Municipal solid waste (MSW)', 'Poultry litter', 'Straw', 'Wood', 'Charcoal', 'Liquid bio-fuels', 'Bioethanol', 'Biodiesel', 'Biomass', 'Cross-boundary Adjustment']\n",
    "X = data[features].copy()\n",
    "y = data['Total Emissions']\n",
    "\n",
    "# Split the data into training and testing sets\n",
    "X_train, X_test, y_train, y_test = train_test_split(X, y, test_size=0.2, random_state=42)\n",
    "\n",
    "# Scaling the features\n",
    "scaler = StandardScaler()\n",
    "X_train_scaled = scaler.fit_transform(X_train)\n",
    "X_test_scaled = scaler.transform(X_test)\n",
    "\n",
    "# Create the SVR model with a linear kernel\n",
    "svr = SVR(kernel='linear')\n",
    "\n",
    "# Train the model on the training set\n",
    "svr.fit(X_train_scaled, y_train)\n",
    "\n",
    "# Initialize lists to store the results\n",
    "percent_renewable = list(range(0, 101, 5))\n",
    "predicted_emissions = []\n",
    "\n",
    "# For each percentage from 0 to 100\n",
    "for percent in percent_renewable:\n",
    "    # Modify the 'Fraction from renewable sources and waste' to the current percentage\n",
    "    X.loc[:, 'Fraction from renewable sources and waste'] = percent \/ 100.0\n",
    "    \n",
    "    # Scaling the modified features\n",
    "    X_scaled = scaler.transform(X)\n",
    "    \n",
    "    # Make predictions on the modified data\n",
    "    y_pred_modified = svr.predict(X_scaled)\n",
    "    \n",
    "    # Calculate the average predicted emissions\n",
    "    avg_predicted_emissions = np.mean(y_pred_modified)\n",
    "    \n",
    "    # Store the average predicted emissions\n",
    "    predicted_emissions.append(avg_predicted_emissions)\n",
    "\n",
    "# Plot the results\n",
    "plt.figure(figsize=(10, 6))\n",
    "plt.plot(percent_renewable, predicted_emissions)\n",
    "plt.xlabel('Percentage from Renewable Sources and Waste')\n",
    "plt.ylabel('Predicted Total Emissions')\n",
    "plt.title('Predicted Total Emissions as Percentage from Renewable Sources Reaches 100%')\n",
    "plt.grid(True)\n",
    "plt.show()"
   ],
   "execution_count":12,
   "outputs":[
    {
     "data":{
      "image\/png":"[encoded data removed]"
     },
     "metadata":{
      "image\/png":{
       
      }
     },
     "output_type":"display_data"
    }
   ],
   "metadata":{
    "datalore":{
     "node_id":"3iNfQa3JwAFHXBLpcS7o1N",
     "type":"CODE",
     "hide_input_from_viewers":false,
     "hide_output_from_viewers":false,
     "report_properties":{
      "rowId":"J9EzCbjv0iDQXkD7NHwmJt",
      "relativeY":0
     }
    }
   }
  },
  {
   "cell_type":"code",
   "source":[
    "#99 Percent solar with 99 percent renewable\n",
    "\n",
    "import pandas as pd\n",
    "import numpy as np\n",
    "import matplotlib.pyplot as plt\n",
    "from sklearn.model_selection import train_test_split\n",
    "from sklearn.svm import SVR\n",
    "from sklearn.preprocessing import StandardScaler\n",
    "\n",
    "# Read the dataset\n",
    "data = pd.read_csv('\/data\/notebook_files\/FINAL_UK.csv')\n",
    "\n",
    "# Select the features\n",
    "features = ['Energy from renewable & waste sources', 'Total Energy', 'Fraction from renewable sources and waste', 'Hydroelectric power', 'Wind, wave, tidal', 'Solar photovoltaic', 'Geothermal aquifers', 'Landfill gas', 'Sewage gas', 'Biogas from autogen', 'Municipal solid waste (MSW)', 'Poultry litter', 'Straw', 'Wood', 'Charcoal', 'Liquid bio-fuels', 'Bioethanol', 'Biodiesel', 'Biomass', 'Cross-boundary Adjustment']\n",
    "X = data[features].copy()\n",
    "y = data['Total Emissions']\n",
    "\n",
    "# Split the data into training and testing sets\n",
    "X_train, X_test, y_train, y_test = train_test_split(X, y, test_size=0.2, random_state=42)\n",
    "\n",
    "# Scaling the features\n",
    "scaler = StandardScaler()\n",
    "X_train_scaled = scaler.fit_transform(X_train)\n",
    "X_test_scaled = scaler.transform(X_test)\n",
    "\n",
    "# Create the SVR model with a linear kernel\n",
    "svr = SVR(kernel='linear')\n",
    "\n",
    "# Train the model on the training set\n",
    "svr.fit(X_train_scaled, y_train)\n",
    "\n",
    "# Initialize lists to store the results\n",
    "percent_renewable = list(range(0, 100, 1))\n",
    "predicted_emissions = []\n",
    "\n",
    "# For each percentage from 0 to 99\n",
    "for percent in percent_renewable:\n",
    "    # Modify the 'Fraction from renewable sources and waste' to 99%\n",
    "    X.loc[:, 'Fraction from renewable sources and waste'] = 0.99\n",
    "    \n",
    "    # Modify the 'Solar photovoltaic' feature to the current percentage\n",
    "    X.loc[:, 'Solar photovoltaic'] = percent \/ 100.0\n",
    "    \n",
    "    # Scaling the modified features\n",
    "    X_scaled = scaler.transform(X)\n",
    "    \n",
    "    # Make predictions on the modified data\n",
    "    y_pred_modified = svr.predict(X_scaled)\n",
    "    \n",
    "    # Calculate the average predicted emissions\n",
    "    avg_predicted_emissions = np.mean(y_pred_modified)\n",
    "    \n",
    "    # Store the average predicted emissions\n",
    "    predicted_emissions.append(avg_predicted_emissions)\n",
    "\n",
    "# Plot the results\n",
    "plt.figure(figsize=(10, 6))\n",
    "plt.plot(percent_renewable, predicted_emissions)\n",
    "plt.xlabel('Percentage from Renewable Sources and Waste')\n",
    "plt.ylabel('Predicted Total Emissions')\n",
    "plt.title('Predicted Total Emissions as Percentage from Renewable Sources Reaches 99% with Solar at 99%')\n",
    "plt.grid(True)\n",
    "plt.show()"
   ],
   "execution_count":1,
   "outputs":[
    {
     "data":{
      "image\/png":"[encoded data removed]"
     },
     "metadata":{
      "image\/png":{
       
      }
     },
     "output_type":"display_data"
    }
   ],
   "metadata":{
    "datalore":{
     "node_id":"D87qyi7T20Q1UCrMMjcaD6",
     "type":"CODE",
     "hide_input_from_viewers":true,
     "hide_output_from_viewers":true
    }
   }
  },
  {
   "cell_type":"code",
   "source":[
    "# Coal Emissions for the UK\n",
    "\n",
    "import seaborn as sns\n",
    "\n",
    "df = pd.read_csv('\/data\/notebook_files\/GCB2022v27_MtCO2_flat.csv')\n",
    "\n",
    "# Filter data for 'United Kingdom'\n",
    "uk_data = df[df['Country'] == 'United Kingdom']\n",
    "\n",
    "# Further filter the data for the period 1850-2020\n",
    "uk_data = uk_data[(uk_data['Year'] >= 1850) & (uk_data['Year'] <= 2020)]\n",
    "\n",
    "# Plotting the data\n",
    "plt.figure(figsize=(10, 6))\n",
    "sns.lineplot(data=uk_data, x='Year', y='Coal')\n",
    "\n",
    "plt.title('Change in Coal in the United Kingdom (1850-2020)')\n",
    "plt.xlabel('Year')\n",
    "plt.ylabel('Coal')\n",
    "plt.grid(True)\n",
    "plt.show()"
   ],
   "execution_count":17,
   "outputs":[
    {
     "data":{
      "image\/png":"[encoded data removed]"
     },
     "metadata":{
      "image\/png":{
       
      }
     },
     "output_type":"display_data"
    }
   ],
   "metadata":{
    "datalore":{
     "node_id":"FXPRK7NfLXOl3auJ6JulDR",
     "type":"CODE",
     "hide_input_from_viewers":false,
     "hide_output_from_viewers":false,
     "report_properties":{
      "rowId":"WmZOWdvbaIiCKpvQlte9s7",
      "relativeY":0
     }
    }
   }
  }
 ],
 "metadata":{
  "kernelspec":{
   "display_name":"Python",
   "language":"python",
   "name":"python"
  },
  "datalore":{
   "computation_mode":"JUPYTER",
   "packages":[
    
   ],
   "report_row_ids":[
    "pGdnwWJHKhUMd5GvyVSHSb",
    "rVcOY9jplyWTTuybVr9Cin",
    "nPNUC141CajJqc5R3pSRiN",
    "ZpXkxu7lbYHeuU8wM26AB4",
    "N7BY0TeR7YIpCpBuIWcwyT",
    "M9ENhHhss5QuxLjeCDVhlt",
    "7MqS3TX7B1W7kwR1cj4bM4",
    "fnUBuEHNInvIE66Wrr7IT8",
    "dT2lZZWJolUt0FjAmnvkr9",
    "9fOEabRBe1GIQgv38aIeXH",
    "tcmPhpZ1Oh3UgEdoJvtRdd",
    "WFUnIIyhmH0NqFDumT83oh",
    "y4IV3ZdDVNJKqcULDerGrW",
    "MM9vXxsu6W8tQ4BD0wncuo",
    "dTRrD4zGo9roLfzy4gyXsq",
    "4uMMTZ1phE9HnZMVjSXzRQ",
    "38hzUp0zxZNtkY2JygwcMC",
    "EEz3rm7bJlp3qtkWXWMzEo",
    "YB5y74dWcWXZ45hzP4iQ6k",
    "C8q3EuKy7ashu1cQI9H9DL",
    "d4VNpLLXkWEBagKJUPxEbt",
    "bo91bkuG5vXcPbadVysPEx",
    "mU9TBuClnTVkoGesINWT0t",
    "tkTAwOAoBwlDR0HhA4y3ui",
    "81p0wnfOndOW7haYaa22LM",
    "QzXWaSzsn2rMzk5lACudMU",
    "KI0eUrN6iNTIt4eJIQm8hv",
    "Ims3ffU5WgerFhURWdAOd5",
    "jqTJtbRFcXOVheuSnAvQBF",
    "qkKSj3ojQVvXkgtPUF0yTL",
    "Q9n6pUs0iBuUP9PcLJQMpq",
    "n8iiUFtDFe7p88zJLTQeMC",
    "eHMwqGpiEWb7146IwM1FWV",
    "P53i2zCwh1dCZc4EEoOhG2",
    "Ypndc8TdJfschd74N61XY9",
    "J9EzCbjv0iDQXkD7NHwmJt",
    "WmZOWdvbaIiCKpvQlte9s7"
   ],
   "version":3
  }
 },
 "nbformat":4,
 "nbformat_minor":4
}